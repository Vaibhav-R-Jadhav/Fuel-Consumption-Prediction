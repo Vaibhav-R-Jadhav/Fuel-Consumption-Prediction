{
 "cells": [
  {
   "cell_type": "markdown",
   "id": "1eb63429",
   "metadata": {},
   "source": [
    "-----\n",
    "<center>\n",
    "<h1 style=\"font-size: 50px; font-family: serif;\">Fuel Consumption Prediction !</h1>\n",
    "</center>\n",
    "\n",
    "---"
   ]
  },
  {
   "cell_type": "markdown",
   "id": "459c402d",
   "metadata": {},
   "source": [
    "<center>\n",
    "<img src=\"https://media.tenor.com/GRq2qp1DU0wAAAAC/fuel-gas.gif\" width=\"550\" height='100'>\n",
    "</center>\n"
   ]
  },
  {
   "cell_type": "markdown",
   "id": "951bf2fe",
   "metadata": {},
   "source": [
    "---\n",
    "# Metadata:\n",
    "---    \n",
    "**1. Dataset**   : Given dataset contain 2022 Fuel Consumption Ratings information.\n",
    "\n",
    "**2. Model Year**: Represent the year in which a particular model of a vehicle was produced. \n",
    "\n",
    "**3. Make**\t  : It describe the brand or manufacturer of a vehicle.\n",
    "\n",
    "**4. Model**     : It refers to a specific version of a vehicle produced by a manufacturer under a particular make or brand.\n",
    "\n",
    "**5. Vehicle Class**: Represent the categorization system used in the automotive industry to group vehicles based on their                        size, body style, and intended use. \n",
    "\n",
    "**6. Engine Size**  : It tell us about the total volume of air and fuel that can be drawn into the engine cylinders of a                          vehicle's engine during one complete cycle. It is typically measured in either cubic centimeters (cc)                      or liters (L).\n",
    "\n",
    "**7. Cylinders**    : It refer to the individual chambers within a vehicle's engine where the combustion process takes place.\n",
    "\n",
    "**8. Transmission** : It represent the system in which power transmission take place, from the engine to the wheels, which                        allowing the vehicle to move forward or backward\n",
    "\n",
    "**9. Fuel Type**    : It refers to the specific type of fuel that is used to power a vehicle, machine, or other device.\n",
    "\n",
    "**10. Fuel Consumption(City (L/100 km)** : it represent fuel consumption in the city.\n",
    "\n",
    "**11. Fuel Consumption(Hwy (L/100 km)** : it represent fuel consumption on the Highway.\n",
    "\n",
    "**12. Fuel Consumption(Comb (L/100 km)** : it represent fuel consumption for both city and highway.\n",
    "\n",
    "**13. Fuel Consumption(Comb (mpg))**: it represent fuel consumption for both city & highway, in miles per imperial gallon(mpg).\n",
    "\n",
    "**14. CO2 Emissions(g/km)** : It refer to the amount of CO2 that is emitted by a vehicle for every kilometer that it is driven.\n",
    "\n",
    "**15. CO2 Rating**  : It's measure a vehicle's carbon dioxide (CO2) emissions, typically expressed in grams of CO2 per                           kilometer(g/km).\n",
    "\n",
    "**16. Smog Rating** : It's measure a vehicle's emissions of pollutants that contribute to the formation of smog. "
   ]
  },
  {
   "cell_type": "markdown",
   "id": "2e815b83",
   "metadata": {},
   "source": [
    "-----\n",
    "<center>\n",
    "<h1 style=\"font-size: 30px; font-family: serif;\">Report content</h1>\n",
    "</center>\n",
    "\n",
    "---\n",
    "1. <a href=\"#Importmodules\">Import Modules</a><br>\n",
    "    1.1 <a href=\"#Importdata\">Importing data into Dataframe</a><br>\n",
    "    \n",
    "2. <a href=\"#Datatcleaning\">Data cleaning</a><br>\n",
    "    2.1 <a href=\"#df1\">Creating new DataFrame with necessary columns</a><br>\n",
    "    2.2 <a href=\"#nullcheck\">Checking null values</a><br>\n",
    "    2.3 <a href=\"#treatfuel\">Treating Null's in \"Fuel type\"</a><br>\n",
    "    2.4 <a href=\"#nullco2\">Dealing with the nulls present in feature \"CO2 Rating\"</a><br>\n",
    "    \n",
    "<a href=\"#eda\"># Exploratory Data Analysis (E.D.A.)</a><br>\n",
    "\n",
    "3. <a href=\"#univar\">Univariate analysis:-</a><br>\n",
    "    3.1  <a href=\"#mean\">Checking Mean, Median, Standard Deviation and Quantile</a><br>\n",
    "    3.2 <a href=\"#distribute\">Frequency Distribution for the categorical Columns</a><br>\n",
    "    3.3 <a href=\"#numerical\">Frequency Distribution on Numerical columns</a><br>\n",
    "    \n",
    "4. <a href=\"#bivariate\">Bivariate analysis:-</a><br>\n",
    "    4.1 <a href=\"#compare\">Comparison Between all columns</a><br>\n",
    "    4.2  <a href=\"#comparecylinder\">Comparison between \"No. of cylinders\" & \"Fuel consumption\"</a><br>\n",
    "    4.3 <a href=\"#chi\">Performing Chi Square analysis</a><br>\n",
    "    4.4 <a href=\"#heatcorr\">Heatmap showing \"Pearson correlation\"</a><br>\n",
    "    \n",
    "\n",
    "5. <a href=\"#prepro\">Data Preprocessing</a><br>\n",
    "    5.1 <a href=\"#outlier\">Outlier analysis</a><br>\n",
    "    5.2 <a href=\"#x&y\">Creating X And Y for models</a><br>\n",
    "    5.3 <a href=\"#ordinal\">Ordinal encoding</a><br>\n",
    "    5.4 <a href=\"#onehot\">One Hot encoding on categorical columns</a><br>\n",
    "    5.5 <a href=\"#traintest\">Split into train and test set</a><br>\n",
    "    5.6 <a href=\"#scailing\">Feature Scaling</a><br>\n",
    "    \n",
    "\n",
    "6. <a href=\"#model\">Training Models</a><br>\n",
    "    6.1 <a href=\"#linear\">Linear Regression</a><br>\n",
    "    6.2  <a href=\"#decision\">Decision Tree Regressor</a><br>\n",
    "    6.3 <a href=\"#rf\">Random Forest Regressor</a><br>\n",
    "    6.4 <a href=\"#svr\">SVR Model</a><br>\n",
    "    6.4 <a href=\"#polynomial\">Polynomial Regression</a><br>\n",
    "    \n",
    "    \n",
    "7. <a href=\"#deployment\">Model Deployment</a><br>\n",
    "    7.1 <a href=\"#pickling\">Pickling Model and Scaler object for Deployment</a><br>\n",
    "     \n",
    "    \n",
    "    \n",
    "    \n",
    "    \n",
    "        \n",
    "        \n",
    "\n",
    "\n",
    "\n"
   ]
  },
  {
   "cell_type": "markdown",
   "id": "a90f39ad",
   "metadata": {},
   "source": [
    "---\n",
    "# 1. Import Modules \n",
    "<span id=\"Importmodules\"></span>\n",
    "\n",
    "---"
   ]
  },
  {
   "cell_type": "code",
   "execution_count": 1,
   "id": "9c35fc36",
   "metadata": {},
   "outputs": [],
   "source": [
    "import pandas as pd\n",
    "import numpy as np\n",
    "import matplotlib.pyplot as plt\n",
    "import seaborn as sns\n",
    "%matplotlib inline\n",
    "#import plotly.express as px\n",
    "# import scipy.stats as stats\n",
    "from scipy.stats import chi2_contingency\n",
    "from sklearn.preprocessing import PolynomialFeatures\n",
    "from sklearn.metrics import r2_score\n",
    "# -----------warning\n",
    "import sys\n",
    "import warnings\n",
    "if not sys.warnoptions:\n",
    "    warnings.simplefilter(\"ignore\")"
   ]
  },
  {
   "cell_type": "markdown",
   "id": "ce2ad91e",
   "metadata": {},
   "source": [
    "\n",
    "# 1.1 Creating Dataframe\n",
    "<span id=\"Importdata\"></span>"
   ]
  },
  {
   "cell_type": "code",
   "execution_count": 106,
   "id": "57f4ca49",
   "metadata": {},
   "outputs": [
    {
     "data": {
      "text/html": [
       "<div>\n",
       "<style scoped>\n",
       "    .dataframe tbody tr th:only-of-type {\n",
       "        vertical-align: middle;\n",
       "    }\n",
       "\n",
       "    .dataframe tbody tr th {\n",
       "        vertical-align: top;\n",
       "    }\n",
       "\n",
       "    .dataframe thead th {\n",
       "        text-align: right;\n",
       "    }\n",
       "</style>\n",
       "<table border=\"1\" class=\"dataframe\">\n",
       "  <thead>\n",
       "    <tr style=\"text-align: right;\">\n",
       "      <th></th>\n",
       "      <th>Model Year</th>\n",
       "      <th>Make</th>\n",
       "      <th>Model</th>\n",
       "      <th>Vehicle Class</th>\n",
       "      <th>Engine Size(L)</th>\n",
       "      <th>Cylinders</th>\n",
       "      <th>Transmission</th>\n",
       "      <th>Fuel Type</th>\n",
       "      <th>Fuel Consumption (City (L/100 km)</th>\n",
       "      <th>Fuel Consumption(Hwy (L/100 km))</th>\n",
       "      <th>Fuel Consumption(Comb (L/100 km))</th>\n",
       "      <th>Fuel Consumption(Comb (mpg))</th>\n",
       "      <th>CO2 Emissions(g/km)</th>\n",
       "      <th>CO2 Rating</th>\n",
       "      <th>Smog Rating</th>\n",
       "    </tr>\n",
       "  </thead>\n",
       "  <tbody>\n",
       "    <tr>\n",
       "      <th>0</th>\n",
       "      <td>2022</td>\n",
       "      <td>Acura</td>\n",
       "      <td>ILX</td>\n",
       "      <td>Compact</td>\n",
       "      <td>2.4</td>\n",
       "      <td>4</td>\n",
       "      <td>AM8</td>\n",
       "      <td>Z</td>\n",
       "      <td>NaN</td>\n",
       "      <td>7.0</td>\n",
       "      <td>8.6</td>\n",
       "      <td>33.0</td>\n",
       "      <td>200.0</td>\n",
       "      <td>6.0</td>\n",
       "      <td>3.0</td>\n",
       "    </tr>\n",
       "    <tr>\n",
       "      <th>1</th>\n",
       "      <td>2022</td>\n",
       "      <td>Acura</td>\n",
       "      <td>MDX SH-AWD</td>\n",
       "      <td>SUV: Small</td>\n",
       "      <td>3.5</td>\n",
       "      <td>6</td>\n",
       "      <td>AS10</td>\n",
       "      <td>Z</td>\n",
       "      <td>12.6</td>\n",
       "      <td>9.4</td>\n",
       "      <td>11.2</td>\n",
       "      <td>25.0</td>\n",
       "      <td>263.0</td>\n",
       "      <td>4.0</td>\n",
       "      <td>5.0</td>\n",
       "    </tr>\n",
       "    <tr>\n",
       "      <th>2</th>\n",
       "      <td>2022</td>\n",
       "      <td>Acura</td>\n",
       "      <td>RDX SH-AWD</td>\n",
       "      <td>SUV: Small</td>\n",
       "      <td>2.0</td>\n",
       "      <td>4</td>\n",
       "      <td>AS10</td>\n",
       "      <td>Z</td>\n",
       "      <td>11.0</td>\n",
       "      <td>8.6</td>\n",
       "      <td>9.9</td>\n",
       "      <td>29.0</td>\n",
       "      <td>232.0</td>\n",
       "      <td>5.0</td>\n",
       "      <td>6.0</td>\n",
       "    </tr>\n",
       "    <tr>\n",
       "      <th>3</th>\n",
       "      <td>2022</td>\n",
       "      <td>Acura</td>\n",
       "      <td>RDX SH-AWD A-SPEC</td>\n",
       "      <td>SUV: Small</td>\n",
       "      <td>2.0</td>\n",
       "      <td>4</td>\n",
       "      <td>AS10</td>\n",
       "      <td>Z</td>\n",
       "      <td>11.3</td>\n",
       "      <td>9.1</td>\n",
       "      <td>10.3</td>\n",
       "      <td>27.0</td>\n",
       "      <td>242.0</td>\n",
       "      <td>5.0</td>\n",
       "      <td>6.0</td>\n",
       "    </tr>\n",
       "    <tr>\n",
       "      <th>4</th>\n",
       "      <td>2022</td>\n",
       "      <td>Acura</td>\n",
       "      <td>TLX SH-AWD</td>\n",
       "      <td>Compact</td>\n",
       "      <td>2.0</td>\n",
       "      <td>4</td>\n",
       "      <td>AS10</td>\n",
       "      <td>Z</td>\n",
       "      <td>11.2</td>\n",
       "      <td>8.0</td>\n",
       "      <td>9.8</td>\n",
       "      <td>29.0</td>\n",
       "      <td>230.0</td>\n",
       "      <td>5.0</td>\n",
       "      <td>7.0</td>\n",
       "    </tr>\n",
       "    <tr>\n",
       "      <th>...</th>\n",
       "      <td>...</td>\n",
       "      <td>...</td>\n",
       "      <td>...</td>\n",
       "      <td>...</td>\n",
       "      <td>...</td>\n",
       "      <td>...</td>\n",
       "      <td>...</td>\n",
       "      <td>...</td>\n",
       "      <td>...</td>\n",
       "      <td>...</td>\n",
       "      <td>...</td>\n",
       "      <td>...</td>\n",
       "      <td>...</td>\n",
       "      <td>...</td>\n",
       "      <td>...</td>\n",
       "    </tr>\n",
       "    <tr>\n",
       "      <th>940</th>\n",
       "      <td>2022</td>\n",
       "      <td>Volvo</td>\n",
       "      <td>XC40 T5 AWD</td>\n",
       "      <td>SUV: Small</td>\n",
       "      <td>2.0</td>\n",
       "      <td>4</td>\n",
       "      <td>AS8</td>\n",
       "      <td>Z</td>\n",
       "      <td>10.7</td>\n",
       "      <td>7.7</td>\n",
       "      <td>9.4</td>\n",
       "      <td>30.0</td>\n",
       "      <td>219.0</td>\n",
       "      <td>5.0</td>\n",
       "      <td>5.0</td>\n",
       "    </tr>\n",
       "    <tr>\n",
       "      <th>941</th>\n",
       "      <td>2022</td>\n",
       "      <td>Volvo</td>\n",
       "      <td>XC60 B5 AWD</td>\n",
       "      <td>SUV: Small</td>\n",
       "      <td>2.0</td>\n",
       "      <td>4</td>\n",
       "      <td>AS8</td>\n",
       "      <td>Z</td>\n",
       "      <td>10.5</td>\n",
       "      <td>8.1</td>\n",
       "      <td>9.4</td>\n",
       "      <td>30.0</td>\n",
       "      <td>219.0</td>\n",
       "      <td>5.0</td>\n",
       "      <td>5.0</td>\n",
       "    </tr>\n",
       "    <tr>\n",
       "      <th>942</th>\n",
       "      <td>2022</td>\n",
       "      <td>Volvo</td>\n",
       "      <td>XC60 B6 AWD</td>\n",
       "      <td>SUV: Small</td>\n",
       "      <td>2.0</td>\n",
       "      <td>4</td>\n",
       "      <td>AS8</td>\n",
       "      <td>Z</td>\n",
       "      <td>11.0</td>\n",
       "      <td>8.7</td>\n",
       "      <td>9.9</td>\n",
       "      <td>29.0</td>\n",
       "      <td>232.0</td>\n",
       "      <td>5.0</td>\n",
       "      <td>NaN</td>\n",
       "    </tr>\n",
       "    <tr>\n",
       "      <th>943</th>\n",
       "      <td>2022</td>\n",
       "      <td>Volvo</td>\n",
       "      <td>XC90 T5 AWD</td>\n",
       "      <td>SUV: Standard</td>\n",
       "      <td>2.0</td>\n",
       "      <td>4</td>\n",
       "      <td>AS8</td>\n",
       "      <td>Z</td>\n",
       "      <td>11.5</td>\n",
       "      <td>8.4</td>\n",
       "      <td>10.1</td>\n",
       "      <td>28.0</td>\n",
       "      <td>236.0</td>\n",
       "      <td>5.0</td>\n",
       "      <td>5.0</td>\n",
       "    </tr>\n",
       "    <tr>\n",
       "      <th>944</th>\n",
       "      <td>2022</td>\n",
       "      <td>Volvo</td>\n",
       "      <td>XC90 T6 AWD</td>\n",
       "      <td>SUV: Standard</td>\n",
       "      <td>2.0</td>\n",
       "      <td>4</td>\n",
       "      <td>AS8</td>\n",
       "      <td>Z</td>\n",
       "      <td>NaN</td>\n",
       "      <td>8.9</td>\n",
       "      <td>10.8</td>\n",
       "      <td>26.0</td>\n",
       "      <td>252.0</td>\n",
       "      <td>5.0</td>\n",
       "      <td>7.0</td>\n",
       "    </tr>\n",
       "  </tbody>\n",
       "</table>\n",
       "<p>945 rows × 15 columns</p>\n",
       "</div>"
      ],
      "text/plain": [
       "     Model Year   Make              Model  Vehicle Class  Engine Size(L)  \\\n",
       "0          2022  Acura                ILX        Compact             2.4   \n",
       "1          2022  Acura         MDX SH-AWD     SUV: Small             3.5   \n",
       "2          2022  Acura         RDX SH-AWD     SUV: Small             2.0   \n",
       "3          2022  Acura  RDX SH-AWD A-SPEC     SUV: Small             2.0   \n",
       "4          2022  Acura         TLX SH-AWD        Compact             2.0   \n",
       "..          ...    ...                ...            ...             ...   \n",
       "940        2022  Volvo        XC40 T5 AWD     SUV: Small             2.0   \n",
       "941        2022  Volvo        XC60 B5 AWD     SUV: Small             2.0   \n",
       "942        2022  Volvo        XC60 B6 AWD     SUV: Small             2.0   \n",
       "943        2022  Volvo        XC90 T5 AWD  SUV: Standard             2.0   \n",
       "944        2022  Volvo        XC90 T6 AWD  SUV: Standard             2.0   \n",
       "\n",
       "     Cylinders Transmission Fuel Type  Fuel Consumption (City (L/100 km)  \\\n",
       "0            4          AM8         Z                                NaN   \n",
       "1            6         AS10         Z                               12.6   \n",
       "2            4         AS10         Z                               11.0   \n",
       "3            4         AS10         Z                               11.3   \n",
       "4            4         AS10         Z                               11.2   \n",
       "..         ...          ...       ...                                ...   \n",
       "940          4          AS8         Z                               10.7   \n",
       "941          4          AS8         Z                               10.5   \n",
       "942          4          AS8         Z                               11.0   \n",
       "943          4          AS8         Z                               11.5   \n",
       "944          4          AS8         Z                                NaN   \n",
       "\n",
       "     Fuel Consumption(Hwy (L/100 km))  Fuel Consumption(Comb (L/100 km))  \\\n",
       "0                                 7.0                                8.6   \n",
       "1                                 9.4                               11.2   \n",
       "2                                 8.6                                9.9   \n",
       "3                                 9.1                               10.3   \n",
       "4                                 8.0                                9.8   \n",
       "..                                ...                                ...   \n",
       "940                               7.7                                9.4   \n",
       "941                               8.1                                9.4   \n",
       "942                               8.7                                9.9   \n",
       "943                               8.4                               10.1   \n",
       "944                               8.9                               10.8   \n",
       "\n",
       "     Fuel Consumption(Comb (mpg))  CO2 Emissions(g/km)  CO2 Rating  \\\n",
       "0                            33.0                200.0         6.0   \n",
       "1                            25.0                263.0         4.0   \n",
       "2                            29.0                232.0         5.0   \n",
       "3                            27.0                242.0         5.0   \n",
       "4                            29.0                230.0         5.0   \n",
       "..                            ...                  ...         ...   \n",
       "940                          30.0                219.0         5.0   \n",
       "941                          30.0                219.0         5.0   \n",
       "942                          29.0                232.0         5.0   \n",
       "943                          28.0                236.0         5.0   \n",
       "944                          26.0                252.0         5.0   \n",
       "\n",
       "     Smog Rating  \n",
       "0            3.0  \n",
       "1            5.0  \n",
       "2            6.0  \n",
       "3            6.0  \n",
       "4            7.0  \n",
       "..           ...  \n",
       "940          5.0  \n",
       "941          5.0  \n",
       "942          NaN  \n",
       "943          5.0  \n",
       "944          7.0  \n",
       "\n",
       "[945 rows x 15 columns]"
      ]
     },
     "execution_count": 106,
     "metadata": {},
     "output_type": "execute_result"
    }
   ],
   "source": [
    "df = pd.read_csv(r\"C:\\Users\\Vaibhav\\OneDrive\\Documents\\masai\\Project3\\MY2022 Fuel Consumption Ratings.csv\")\n",
    "df"
   ]
  },
  {
   "cell_type": "markdown",
   "id": "4089c831",
   "metadata": {},
   "source": [
    "-----\n",
    "<center>\n",
    "<h1 style=\"font-size: 40px; font-family: serif;\">2. Data cleaning</h1>\n",
    "</center>\n",
    "<span id=\"Datatcleaning\"></span>\n",
    "\n",
    "---"
   ]
  },
  {
   "cell_type": "markdown",
   "id": "de7a22a5",
   "metadata": {},
   "source": [
    "# 2.1 Creating new DataFrame with necessary columns\n",
    "<span id=\"df1\"></span>\n"
   ]
  },
  {
   "cell_type": "code",
   "execution_count": 107,
   "id": "c1b943ed",
   "metadata": {},
   "outputs": [],
   "source": [
    "df1= df.drop(['Model Year','Make','Model','Fuel Consumption (City (L/100 km)','Fuel Consumption(Hwy (L/100 km))','Fuel Consumption(Comb (mpg))','CO2 Emissions(g/km)','Smog Rating'],axis=1)"
   ]
  },
  {
   "cell_type": "markdown",
   "id": "4e42988e",
   "metadata": {},
   "source": [
    "**New DataFrame**"
   ]
  },
  {
   "cell_type": "code",
   "execution_count": 108,
   "id": "0d083c7c",
   "metadata": {},
   "outputs": [
    {
     "data": {
      "text/html": [
       "<div>\n",
       "<style scoped>\n",
       "    .dataframe tbody tr th:only-of-type {\n",
       "        vertical-align: middle;\n",
       "    }\n",
       "\n",
       "    .dataframe tbody tr th {\n",
       "        vertical-align: top;\n",
       "    }\n",
       "\n",
       "    .dataframe thead th {\n",
       "        text-align: right;\n",
       "    }\n",
       "</style>\n",
       "<table border=\"1\" class=\"dataframe\">\n",
       "  <thead>\n",
       "    <tr style=\"text-align: right;\">\n",
       "      <th></th>\n",
       "      <th>Vehicle Class</th>\n",
       "      <th>Engine Size(L)</th>\n",
       "      <th>Cylinders</th>\n",
       "      <th>Transmission</th>\n",
       "      <th>Fuel Type</th>\n",
       "      <th>Fuel Consumption(Comb (L/100 km))</th>\n",
       "      <th>CO2 Rating</th>\n",
       "    </tr>\n",
       "  </thead>\n",
       "  <tbody>\n",
       "    <tr>\n",
       "      <th>0</th>\n",
       "      <td>Compact</td>\n",
       "      <td>2.4</td>\n",
       "      <td>4</td>\n",
       "      <td>AM8</td>\n",
       "      <td>Z</td>\n",
       "      <td>8.6</td>\n",
       "      <td>6.0</td>\n",
       "    </tr>\n",
       "    <tr>\n",
       "      <th>1</th>\n",
       "      <td>SUV: Small</td>\n",
       "      <td>3.5</td>\n",
       "      <td>6</td>\n",
       "      <td>AS10</td>\n",
       "      <td>Z</td>\n",
       "      <td>11.2</td>\n",
       "      <td>4.0</td>\n",
       "    </tr>\n",
       "    <tr>\n",
       "      <th>2</th>\n",
       "      <td>SUV: Small</td>\n",
       "      <td>2.0</td>\n",
       "      <td>4</td>\n",
       "      <td>AS10</td>\n",
       "      <td>Z</td>\n",
       "      <td>9.9</td>\n",
       "      <td>5.0</td>\n",
       "    </tr>\n",
       "    <tr>\n",
       "      <th>3</th>\n",
       "      <td>SUV: Small</td>\n",
       "      <td>2.0</td>\n",
       "      <td>4</td>\n",
       "      <td>AS10</td>\n",
       "      <td>Z</td>\n",
       "      <td>10.3</td>\n",
       "      <td>5.0</td>\n",
       "    </tr>\n",
       "    <tr>\n",
       "      <th>4</th>\n",
       "      <td>Compact</td>\n",
       "      <td>2.0</td>\n",
       "      <td>4</td>\n",
       "      <td>AS10</td>\n",
       "      <td>Z</td>\n",
       "      <td>9.8</td>\n",
       "      <td>5.0</td>\n",
       "    </tr>\n",
       "    <tr>\n",
       "      <th>...</th>\n",
       "      <td>...</td>\n",
       "      <td>...</td>\n",
       "      <td>...</td>\n",
       "      <td>...</td>\n",
       "      <td>...</td>\n",
       "      <td>...</td>\n",
       "      <td>...</td>\n",
       "    </tr>\n",
       "    <tr>\n",
       "      <th>940</th>\n",
       "      <td>SUV: Small</td>\n",
       "      <td>2.0</td>\n",
       "      <td>4</td>\n",
       "      <td>AS8</td>\n",
       "      <td>Z</td>\n",
       "      <td>9.4</td>\n",
       "      <td>5.0</td>\n",
       "    </tr>\n",
       "    <tr>\n",
       "      <th>941</th>\n",
       "      <td>SUV: Small</td>\n",
       "      <td>2.0</td>\n",
       "      <td>4</td>\n",
       "      <td>AS8</td>\n",
       "      <td>Z</td>\n",
       "      <td>9.4</td>\n",
       "      <td>5.0</td>\n",
       "    </tr>\n",
       "    <tr>\n",
       "      <th>942</th>\n",
       "      <td>SUV: Small</td>\n",
       "      <td>2.0</td>\n",
       "      <td>4</td>\n",
       "      <td>AS8</td>\n",
       "      <td>Z</td>\n",
       "      <td>9.9</td>\n",
       "      <td>5.0</td>\n",
       "    </tr>\n",
       "    <tr>\n",
       "      <th>943</th>\n",
       "      <td>SUV: Standard</td>\n",
       "      <td>2.0</td>\n",
       "      <td>4</td>\n",
       "      <td>AS8</td>\n",
       "      <td>Z</td>\n",
       "      <td>10.1</td>\n",
       "      <td>5.0</td>\n",
       "    </tr>\n",
       "    <tr>\n",
       "      <th>944</th>\n",
       "      <td>SUV: Standard</td>\n",
       "      <td>2.0</td>\n",
       "      <td>4</td>\n",
       "      <td>AS8</td>\n",
       "      <td>Z</td>\n",
       "      <td>10.8</td>\n",
       "      <td>5.0</td>\n",
       "    </tr>\n",
       "  </tbody>\n",
       "</table>\n",
       "<p>945 rows × 7 columns</p>\n",
       "</div>"
      ],
      "text/plain": [
       "     Vehicle Class  Engine Size(L)  Cylinders Transmission Fuel Type  \\\n",
       "0          Compact             2.4          4          AM8         Z   \n",
       "1       SUV: Small             3.5          6         AS10         Z   \n",
       "2       SUV: Small             2.0          4         AS10         Z   \n",
       "3       SUV: Small             2.0          4         AS10         Z   \n",
       "4          Compact             2.0          4         AS10         Z   \n",
       "..             ...             ...        ...          ...       ...   \n",
       "940     SUV: Small             2.0          4          AS8         Z   \n",
       "941     SUV: Small             2.0          4          AS8         Z   \n",
       "942     SUV: Small             2.0          4          AS8         Z   \n",
       "943  SUV: Standard             2.0          4          AS8         Z   \n",
       "944  SUV: Standard             2.0          4          AS8         Z   \n",
       "\n",
       "     Fuel Consumption(Comb (L/100 km))  CO2 Rating  \n",
       "0                                  8.6         6.0  \n",
       "1                                 11.2         4.0  \n",
       "2                                  9.9         5.0  \n",
       "3                                 10.3         5.0  \n",
       "4                                  9.8         5.0  \n",
       "..                                 ...         ...  \n",
       "940                                9.4         5.0  \n",
       "941                                9.4         5.0  \n",
       "942                                9.9         5.0  \n",
       "943                               10.1         5.0  \n",
       "944                               10.8         5.0  \n",
       "\n",
       "[945 rows x 7 columns]"
      ]
     },
     "execution_count": 108,
     "metadata": {},
     "output_type": "execute_result"
    }
   ],
   "source": [
    "df1"
   ]
  },
  {
   "cell_type": "markdown",
   "id": "6b9389fb",
   "metadata": {},
   "source": [
    "**Renaming the columns**"
   ]
  },
  {
   "cell_type": "code",
   "execution_count": 109,
   "id": "57cf3a0b",
   "metadata": {},
   "outputs": [],
   "source": [
    "df1 = df1.rename(columns = {'Vehicle Class':'Vehicle Class', 'Engine Size(L)':'Engine Size', 'Cylinders': 'Cylinders', 'Transmission':'Transmission','Fuel Type':'Fuel Type', 'Fuel Consumption(Comb (L/100 km))':'Fuel Consumption', 'CO2 Rating':'CO2 Rating'})"
   ]
  },
  {
   "cell_type": "markdown",
   "id": "ee4098be",
   "metadata": {},
   "source": [
    "## 2.2 Checking null values\n",
    "<span id=\"nullcheck\"></span>"
   ]
  },
  {
   "cell_type": "code",
   "execution_count": 110,
   "id": "520f5fc1",
   "metadata": {},
   "outputs": [
    {
     "data": {
      "text/plain": [
       "Vehicle Class        0\n",
       "Engine Size          0\n",
       "Cylinders            0\n",
       "Transmission         0\n",
       "Fuel Type            1\n",
       "Fuel Consumption     0\n",
       "CO2 Rating          13\n",
       "dtype: int64"
      ]
     },
     "execution_count": 110,
     "metadata": {},
     "output_type": "execute_result"
    }
   ],
   "source": [
    "df1.isna().sum()"
   ]
  },
  {
   "cell_type": "markdown",
   "id": "85b73eb2",
   "metadata": {},
   "source": [
    "## 2.3 Treating Null's in \"Fuel type\"\n",
    "<span id=\"treatfuel\"></span>"
   ]
  },
  {
   "cell_type": "code",
   "execution_count": 111,
   "id": "f322321a",
   "metadata": {},
   "outputs": [],
   "source": [
    "df1['Fuel Type'].fillna((df1['Fuel Type'].mode()[0]), inplace=True)"
   ]
  },
  {
   "cell_type": "code",
   "execution_count": 112,
   "id": "3f0ec3bb",
   "metadata": {},
   "outputs": [
    {
     "data": {
      "text/html": [
       "<div>\n",
       "<style scoped>\n",
       "    .dataframe tbody tr th:only-of-type {\n",
       "        vertical-align: middle;\n",
       "    }\n",
       "\n",
       "    .dataframe tbody tr th {\n",
       "        vertical-align: top;\n",
       "    }\n",
       "\n",
       "    .dataframe thead th {\n",
       "        text-align: right;\n",
       "    }\n",
       "</style>\n",
       "<table border=\"1\" class=\"dataframe\">\n",
       "  <thead>\n",
       "    <tr style=\"text-align: right;\">\n",
       "      <th></th>\n",
       "      <th>Vehicle Class</th>\n",
       "      <th>Engine Size</th>\n",
       "      <th>Cylinders</th>\n",
       "      <th>Transmission</th>\n",
       "      <th>Fuel Type</th>\n",
       "      <th>Fuel Consumption</th>\n",
       "      <th>CO2 Rating</th>\n",
       "    </tr>\n",
       "  </thead>\n",
       "  <tbody>\n",
       "    <tr>\n",
       "      <th>0</th>\n",
       "      <td>Compact</td>\n",
       "      <td>2.4</td>\n",
       "      <td>4</td>\n",
       "      <td>AM8</td>\n",
       "      <td>Z</td>\n",
       "      <td>8.6</td>\n",
       "      <td>6.0</td>\n",
       "    </tr>\n",
       "    <tr>\n",
       "      <th>1</th>\n",
       "      <td>SUV: Small</td>\n",
       "      <td>3.5</td>\n",
       "      <td>6</td>\n",
       "      <td>AS10</td>\n",
       "      <td>Z</td>\n",
       "      <td>11.2</td>\n",
       "      <td>4.0</td>\n",
       "    </tr>\n",
       "    <tr>\n",
       "      <th>2</th>\n",
       "      <td>SUV: Small</td>\n",
       "      <td>2.0</td>\n",
       "      <td>4</td>\n",
       "      <td>AS10</td>\n",
       "      <td>Z</td>\n",
       "      <td>9.9</td>\n",
       "      <td>5.0</td>\n",
       "    </tr>\n",
       "    <tr>\n",
       "      <th>3</th>\n",
       "      <td>SUV: Small</td>\n",
       "      <td>2.0</td>\n",
       "      <td>4</td>\n",
       "      <td>AS10</td>\n",
       "      <td>Z</td>\n",
       "      <td>10.3</td>\n",
       "      <td>5.0</td>\n",
       "    </tr>\n",
       "    <tr>\n",
       "      <th>4</th>\n",
       "      <td>Compact</td>\n",
       "      <td>2.0</td>\n",
       "      <td>4</td>\n",
       "      <td>AS10</td>\n",
       "      <td>Z</td>\n",
       "      <td>9.8</td>\n",
       "      <td>5.0</td>\n",
       "    </tr>\n",
       "  </tbody>\n",
       "</table>\n",
       "</div>"
      ],
      "text/plain": [
       "  Vehicle Class  Engine Size  Cylinders Transmission Fuel Type  \\\n",
       "0       Compact          2.4          4          AM8         Z   \n",
       "1    SUV: Small          3.5          6         AS10         Z   \n",
       "2    SUV: Small          2.0          4         AS10         Z   \n",
       "3    SUV: Small          2.0          4         AS10         Z   \n",
       "4       Compact          2.0          4         AS10         Z   \n",
       "\n",
       "   Fuel Consumption  CO2 Rating  \n",
       "0               8.6         6.0  \n",
       "1              11.2         4.0  \n",
       "2               9.9         5.0  \n",
       "3              10.3         5.0  \n",
       "4               9.8         5.0  "
      ]
     },
     "execution_count": 112,
     "metadata": {},
     "output_type": "execute_result"
    }
   ],
   "source": [
    "df1.head()"
   ]
  },
  {
   "cell_type": "markdown",
   "id": "64ec4244",
   "metadata": {},
   "source": [
    "## 2.4 Dealing with the nulls present in feature \"CO2 Rating\"\n",
    "<span id=\"nullco2\"></span>"
   ]
  },
  {
   "cell_type": "code",
   "execution_count": 113,
   "id": "56471e18",
   "metadata": {},
   "outputs": [],
   "source": [
    "df1['CO2 Rating'].fillna(0,inplace=True)\n",
    "a = []\n",
    "\n",
    "for i,v in zip(df1['Fuel Consumption'], df1['CO2 Rating']):\n",
    "    if v==0:\n",
    "        if 18.5 <= i <= 26.5:\n",
    "            a.append(1)\n",
    "        elif 15.5 <= i < 18.5:\n",
    "            a.append(2) \n",
    "        elif 12.5 <= i < 15.5: \n",
    "            a.append(3)\n",
    "        elif 11 <= i < 12.5: \n",
    "            a.append(4)\n",
    "        elif 9 <= i < 11: \n",
    "            a.append(5)\n",
    "        elif 7.7 <= i < 9: \n",
    "            a.append(6)\n",
    "        elif 6.7 <= i < 7.7: \n",
    "            a.append(7)\n",
    "        elif 5.5 <= i < 6.7: \n",
    "            a.append(8)\n",
    "        elif 4.5 <= i < 5.5: \n",
    "            a.append(9)\n",
    "        elif i < 4.5: \n",
    "            a.append(10)            \n",
    "    else:\n",
    "        a.append(v)\n",
    "        \n",
    "        \n",
    "df1['CO2 Rating'] = a\n"
   ]
  },
  {
   "cell_type": "code",
   "execution_count": 114,
   "id": "f49176a4",
   "metadata": {},
   "outputs": [
    {
     "data": {
      "text/plain": [
       "Vehicle Class       0\n",
       "Engine Size         0\n",
       "Cylinders           0\n",
       "Transmission        0\n",
       "Fuel Type           0\n",
       "Fuel Consumption    0\n",
       "CO2 Rating          0\n",
       "dtype: int64"
      ]
     },
     "execution_count": 114,
     "metadata": {},
     "output_type": "execute_result"
    }
   ],
   "source": [
    "df1.isna().sum()"
   ]
  },
  {
   "cell_type": "markdown",
   "id": "dd46f223",
   "metadata": {},
   "source": [
    "## Checking the correlation"
   ]
  },
  {
   "cell_type": "code",
   "execution_count": 115,
   "id": "9821fe45",
   "metadata": {},
   "outputs": [
    {
     "data": {
      "text/html": [
       "<div>\n",
       "<style scoped>\n",
       "    .dataframe tbody tr th:only-of-type {\n",
       "        vertical-align: middle;\n",
       "    }\n",
       "\n",
       "    .dataframe tbody tr th {\n",
       "        vertical-align: top;\n",
       "    }\n",
       "\n",
       "    .dataframe thead th {\n",
       "        text-align: right;\n",
       "    }\n",
       "</style>\n",
       "<table border=\"1\" class=\"dataframe\">\n",
       "  <thead>\n",
       "    <tr style=\"text-align: right;\">\n",
       "      <th></th>\n",
       "      <th>Engine Size</th>\n",
       "      <th>Cylinders</th>\n",
       "      <th>Fuel Consumption</th>\n",
       "      <th>CO2 Rating</th>\n",
       "    </tr>\n",
       "  </thead>\n",
       "  <tbody>\n",
       "    <tr>\n",
       "      <th>Engine Size</th>\n",
       "      <td>1.000000</td>\n",
       "      <td>0.920672</td>\n",
       "      <td>0.818655</td>\n",
       "      <td>-0.766437</td>\n",
       "    </tr>\n",
       "    <tr>\n",
       "      <th>Cylinders</th>\n",
       "      <td>0.920672</td>\n",
       "      <td>1.000000</td>\n",
       "      <td>0.821719</td>\n",
       "      <td>-0.762320</td>\n",
       "    </tr>\n",
       "    <tr>\n",
       "      <th>Fuel Consumption</th>\n",
       "      <td>0.818655</td>\n",
       "      <td>0.821719</td>\n",
       "      <td>1.000000</td>\n",
       "      <td>-0.927745</td>\n",
       "    </tr>\n",
       "    <tr>\n",
       "      <th>CO2 Rating</th>\n",
       "      <td>-0.766437</td>\n",
       "      <td>-0.762320</td>\n",
       "      <td>-0.927745</td>\n",
       "      <td>1.000000</td>\n",
       "    </tr>\n",
       "  </tbody>\n",
       "</table>\n",
       "</div>"
      ],
      "text/plain": [
       "                  Engine Size  Cylinders  Fuel Consumption  CO2 Rating\n",
       "Engine Size          1.000000   0.920672          0.818655   -0.766437\n",
       "Cylinders            0.920672   1.000000          0.821719   -0.762320\n",
       "Fuel Consumption     0.818655   0.821719          1.000000   -0.927745\n",
       "CO2 Rating          -0.766437  -0.762320         -0.927745    1.000000"
      ]
     },
     "execution_count": 115,
     "metadata": {},
     "output_type": "execute_result"
    }
   ],
   "source": [
    "df1.corr()"
   ]
  },
  {
   "cell_type": "markdown",
   "id": "670cf35e",
   "metadata": {},
   "source": [
    "**Checking Corelation of each feature against target variable**"
   ]
  },
  {
   "cell_type": "code",
   "execution_count": 116,
   "id": "16b76ed5",
   "metadata": {},
   "outputs": [
    {
     "data": {
      "text/plain": [
       "Engine Size         0.818655\n",
       "Cylinders           0.821719\n",
       "Fuel Consumption    1.000000\n",
       "CO2 Rating         -0.927745\n",
       "Name: Fuel Consumption, dtype: float64"
      ]
     },
     "execution_count": 116,
     "metadata": {},
     "output_type": "execute_result"
    }
   ],
   "source": [
    "df1.corr()[\"Fuel Consumption\"]"
   ]
  },
  {
   "cell_type": "markdown",
   "id": "850f25e3",
   "metadata": {},
   "source": [
    "## Looking for noise in all the features, including Target variable."
   ]
  },
  {
   "cell_type": "code",
   "execution_count": 117,
   "id": "2412b4eb",
   "metadata": {
    "scrolled": true
   },
   "outputs": [
    {
     "name": "stdout",
     "output_type": "stream",
     "text": [
      "Vehicle Class\n",
      "['Compact' 'SUV: Small' 'Mid-size' 'Minicompact' 'SUV: Standard'\n",
      " 'Two-seater' 'Subcompact' 'Station wagon: Small'\n",
      " 'Station wagon: Mid-size' 'Full-size' 'Pickup truck: Small'\n",
      " 'Pickup truck: Standard' 'Minivan' 'Special purpose vehicle'] \n",
      "\n",
      "Engine Size\n",
      "[2.4 3.5 2.  3.  2.9 4.  5.2 2.5 6.  4.4 6.6 8.  3.6 1.4 1.2 1.3 2.7 6.2\n",
      " 2.8 1.5 5.3 5.7 6.4 2.3 3.3 5.  1.8 1.6 3.8 5.6 3.2 6.5 4.6 3.4 3.7 6.7] \n",
      "\n",
      "Cylinders\n",
      "[ 4  6  8 12 10  5 16  3] \n",
      "\n",
      "Transmission\n",
      "['AM8' 'AS10' 'A8' 'A9' 'AM7' 'AS8' 'M6' 'AS6' 'AV' 'AS9' 'A10' 'A6' 'M5'\n",
      " 'M7' 'AV7' 'AV1' 'AM6' 'AS7' 'AV8' 'AV6' 'AV10' 'AS5' 'A7'] \n",
      "\n",
      "Fuel Type\n",
      "['Z' 'X' 'D' 'E'] \n",
      "\n",
      "Fuel Consumption\n",
      "[ 8.6 11.2  9.9 10.3  9.8 11.   8.7  9.2 11.6  9.3  9.6 12.3 11.5 13.8\n",
      " 14.6  7.6  8.2  8.8  8.9  9.1 10.  10.6  9.4 10.8 11.7 15.3 11.4 13.7\n",
      " 13.5 15.4  9.7 10.9 13.9 10.1  9.  13.2 16.3 12.2 16.2 12.5 17.  16.\n",
      "  8.3 12.  12.6 12.7 12.9 15.1 10.4 15.7 11.1  8.5 22.2 26.1 11.8  7.8\n",
      "  7.9  9.5 10.2 13.  10.7 14.8 15.2 10.5 14.7 14.9 11.3 12.1 14.1  8.4\n",
      "  7.5 14.5 19.1 13.4 13.1 14.  19.5 21.5 14.4 15.5 15.  16.4  7.   7.2\n",
      " 14.3 15.6 12.4  5.8  5.9 12.8 17.9 17.4 18.1 17.8 15.8 13.3 16.7  6.3\n",
      " 13.6  5.   5.5  7.1  8.   6.9  7.7  8.1  6.7  6.4  4.4  4.2  4.   7.4\n",
      " 16.5  4.6  5.3  6.6 11.9 21.2 16.9  6.   7.3  6.2  6.5 14.2 19.8  4.9\n",
      "  5.1  6.8  4.5  4.8  6.1] \n",
      "\n",
      "CO2 Rating\n",
      "[ 6.  4.  5.  3.  7.  2.  1.  8.  9. 10.] \n",
      "\n"
     ]
    }
   ],
   "source": [
    "for i in df1.columns:\n",
    "    print(i)\n",
    "    print(df1[i].unique(),'\\n')\n",
    "    \n",
    "    "
   ]
  },
  {
   "cell_type": "markdown",
   "id": "afc7d63c",
   "metadata": {},
   "source": [
    "## Removed the Numbers from Transmission columns"
   ]
  },
  {
   "cell_type": "code",
   "execution_count": 118,
   "id": "71206f73",
   "metadata": {
    "scrolled": false
   },
   "outputs": [
    {
     "data": {
      "text/html": [
       "<div>\n",
       "<style scoped>\n",
       "    .dataframe tbody tr th:only-of-type {\n",
       "        vertical-align: middle;\n",
       "    }\n",
       "\n",
       "    .dataframe tbody tr th {\n",
       "        vertical-align: top;\n",
       "    }\n",
       "\n",
       "    .dataframe thead th {\n",
       "        text-align: right;\n",
       "    }\n",
       "</style>\n",
       "<table border=\"1\" class=\"dataframe\">\n",
       "  <thead>\n",
       "    <tr style=\"text-align: right;\">\n",
       "      <th></th>\n",
       "      <th>Vehicle Class</th>\n",
       "      <th>Engine Size</th>\n",
       "      <th>Cylinders</th>\n",
       "      <th>Transmission</th>\n",
       "      <th>Fuel Type</th>\n",
       "      <th>Fuel Consumption</th>\n",
       "      <th>CO2 Rating</th>\n",
       "    </tr>\n",
       "  </thead>\n",
       "  <tbody>\n",
       "    <tr>\n",
       "      <th>0</th>\n",
       "      <td>Compact</td>\n",
       "      <td>2.4</td>\n",
       "      <td>4</td>\n",
       "      <td>AM</td>\n",
       "      <td>Z</td>\n",
       "      <td>8.6</td>\n",
       "      <td>6.0</td>\n",
       "    </tr>\n",
       "    <tr>\n",
       "      <th>1</th>\n",
       "      <td>SUV: Small</td>\n",
       "      <td>3.5</td>\n",
       "      <td>6</td>\n",
       "      <td>AS</td>\n",
       "      <td>Z</td>\n",
       "      <td>11.2</td>\n",
       "      <td>4.0</td>\n",
       "    </tr>\n",
       "    <tr>\n",
       "      <th>2</th>\n",
       "      <td>SUV: Small</td>\n",
       "      <td>2.0</td>\n",
       "      <td>4</td>\n",
       "      <td>AS</td>\n",
       "      <td>Z</td>\n",
       "      <td>9.9</td>\n",
       "      <td>5.0</td>\n",
       "    </tr>\n",
       "    <tr>\n",
       "      <th>3</th>\n",
       "      <td>SUV: Small</td>\n",
       "      <td>2.0</td>\n",
       "      <td>4</td>\n",
       "      <td>AS</td>\n",
       "      <td>Z</td>\n",
       "      <td>10.3</td>\n",
       "      <td>5.0</td>\n",
       "    </tr>\n",
       "    <tr>\n",
       "      <th>4</th>\n",
       "      <td>Compact</td>\n",
       "      <td>2.0</td>\n",
       "      <td>4</td>\n",
       "      <td>AS</td>\n",
       "      <td>Z</td>\n",
       "      <td>9.8</td>\n",
       "      <td>5.0</td>\n",
       "    </tr>\n",
       "    <tr>\n",
       "      <th>...</th>\n",
       "      <td>...</td>\n",
       "      <td>...</td>\n",
       "      <td>...</td>\n",
       "      <td>...</td>\n",
       "      <td>...</td>\n",
       "      <td>...</td>\n",
       "      <td>...</td>\n",
       "    </tr>\n",
       "    <tr>\n",
       "      <th>940</th>\n",
       "      <td>SUV: Small</td>\n",
       "      <td>2.0</td>\n",
       "      <td>4</td>\n",
       "      <td>AS</td>\n",
       "      <td>Z</td>\n",
       "      <td>9.4</td>\n",
       "      <td>5.0</td>\n",
       "    </tr>\n",
       "    <tr>\n",
       "      <th>941</th>\n",
       "      <td>SUV: Small</td>\n",
       "      <td>2.0</td>\n",
       "      <td>4</td>\n",
       "      <td>AS</td>\n",
       "      <td>Z</td>\n",
       "      <td>9.4</td>\n",
       "      <td>5.0</td>\n",
       "    </tr>\n",
       "    <tr>\n",
       "      <th>942</th>\n",
       "      <td>SUV: Small</td>\n",
       "      <td>2.0</td>\n",
       "      <td>4</td>\n",
       "      <td>AS</td>\n",
       "      <td>Z</td>\n",
       "      <td>9.9</td>\n",
       "      <td>5.0</td>\n",
       "    </tr>\n",
       "    <tr>\n",
       "      <th>943</th>\n",
       "      <td>SUV: Standard</td>\n",
       "      <td>2.0</td>\n",
       "      <td>4</td>\n",
       "      <td>AS</td>\n",
       "      <td>Z</td>\n",
       "      <td>10.1</td>\n",
       "      <td>5.0</td>\n",
       "    </tr>\n",
       "    <tr>\n",
       "      <th>944</th>\n",
       "      <td>SUV: Standard</td>\n",
       "      <td>2.0</td>\n",
       "      <td>4</td>\n",
       "      <td>AS</td>\n",
       "      <td>Z</td>\n",
       "      <td>10.8</td>\n",
       "      <td>5.0</td>\n",
       "    </tr>\n",
       "  </tbody>\n",
       "</table>\n",
       "<p>945 rows × 7 columns</p>\n",
       "</div>"
      ],
      "text/plain": [
       "     Vehicle Class  Engine Size  Cylinders Transmission Fuel Type  \\\n",
       "0          Compact          2.4          4           AM         Z   \n",
       "1       SUV: Small          3.5          6           AS         Z   \n",
       "2       SUV: Small          2.0          4           AS         Z   \n",
       "3       SUV: Small          2.0          4           AS         Z   \n",
       "4          Compact          2.0          4           AS         Z   \n",
       "..             ...          ...        ...          ...       ...   \n",
       "940     SUV: Small          2.0          4           AS         Z   \n",
       "941     SUV: Small          2.0          4           AS         Z   \n",
       "942     SUV: Small          2.0          4           AS         Z   \n",
       "943  SUV: Standard          2.0          4           AS         Z   \n",
       "944  SUV: Standard          2.0          4           AS         Z   \n",
       "\n",
       "     Fuel Consumption  CO2 Rating  \n",
       "0                 8.6         6.0  \n",
       "1                11.2         4.0  \n",
       "2                 9.9         5.0  \n",
       "3                10.3         5.0  \n",
       "4                 9.8         5.0  \n",
       "..                ...         ...  \n",
       "940               9.4         5.0  \n",
       "941               9.4         5.0  \n",
       "942               9.9         5.0  \n",
       "943              10.1         5.0  \n",
       "944              10.8         5.0  \n",
       "\n",
       "[945 rows x 7 columns]"
      ]
     },
     "execution_count": 118,
     "metadata": {},
     "output_type": "execute_result"
    }
   ],
   "source": [
    "df1 = df1.replace({'Transmission' : {'AM8':'AM', 'AS10': 'AS', 'A8':'A', 'A9':'A', 'AM7':'AM', 'AS8':'AS', 'M6':'M', 'AS6':'AS', 'AS9':'AS', 'A10':'A', 'A6':'A', 'M5':'M', 'M7':'M', 'AV7':'AV', 'AV1':'AV', 'AM6':'AM', 'AS7':'AS', 'AV8':'AV', 'AV6':'AV', 'AV10':'AV', 'AS5':'AS', 'A7':'A'}})\n",
    "df1"
   ]
  },
  {
   "cell_type": "code",
   "execution_count": 119,
   "id": "37529fd4",
   "metadata": {},
   "outputs": [
    {
     "data": {
      "text/plain": [
       "array(['AM', 'AS', 'A', 'M', 'AV'], dtype=object)"
      ]
     },
     "execution_count": 119,
     "metadata": {},
     "output_type": "execute_result"
    }
   ],
   "source": [
    "df1['Transmission'].unique()"
   ]
  },
  {
   "cell_type": "markdown",
   "id": "266391f3",
   "metadata": {},
   "source": [
    "-----\n",
    "<center>\n",
    "<h1 style=\"font-size: 40px; font-family: serif;\">Exploratory Data Analysis (E.D.A.)</h1>\n",
    "</center>\n",
    "<span id=\"eda\"></span>\n",
    "\n",
    "---"
   ]
  },
  {
   "cell_type": "markdown",
   "id": "e3643f9c",
   "metadata": {},
   "source": [
    "\n",
    "# 3. Univariate analysis:-\n",
    "<span id=\"univar\"></span>\n",
    "\n",
    "---"
   ]
  },
  {
   "cell_type": "markdown",
   "id": "4688c8d2",
   "metadata": {},
   "source": [
    "## 3.1 Checking Mean, Median, Standard Deviation and Quantile :\n",
    "<span id=\"mean\"></span>\n"
   ]
  },
  {
   "cell_type": "code",
   "execution_count": 120,
   "id": "6eeb8607",
   "metadata": {},
   "outputs": [
    {
     "data": {
      "text/html": [
       "<div>\n",
       "<style scoped>\n",
       "    .dataframe tbody tr th:only-of-type {\n",
       "        vertical-align: middle;\n",
       "    }\n",
       "\n",
       "    .dataframe tbody tr th {\n",
       "        vertical-align: top;\n",
       "    }\n",
       "\n",
       "    .dataframe thead th {\n",
       "        text-align: right;\n",
       "    }\n",
       "</style>\n",
       "<table border=\"1\" class=\"dataframe\">\n",
       "  <thead>\n",
       "    <tr style=\"text-align: right;\">\n",
       "      <th></th>\n",
       "      <th>Engine Size</th>\n",
       "      <th>Cylinders</th>\n",
       "      <th>Fuel Consumption</th>\n",
       "      <th>CO2 Rating</th>\n",
       "    </tr>\n",
       "  </thead>\n",
       "  <tbody>\n",
       "    <tr>\n",
       "      <th>mean</th>\n",
       "      <td>3.199683</td>\n",
       "      <td>5.669841</td>\n",
       "      <td>11.093439</td>\n",
       "      <td>4.537566</td>\n",
       "    </tr>\n",
       "    <tr>\n",
       "      <th>median</th>\n",
       "      <td>3.000000</td>\n",
       "      <td>6.000000</td>\n",
       "      <td>10.800000</td>\n",
       "      <td>5.000000</td>\n",
       "    </tr>\n",
       "    <tr>\n",
       "      <th>std</th>\n",
       "      <td>1.375231</td>\n",
       "      <td>1.932930</td>\n",
       "      <td>2.877491</td>\n",
       "      <td>1.471090</td>\n",
       "    </tr>\n",
       "    <tr>\n",
       "      <th>quantile</th>\n",
       "      <td>3.000000</td>\n",
       "      <td>6.000000</td>\n",
       "      <td>10.800000</td>\n",
       "      <td>5.000000</td>\n",
       "    </tr>\n",
       "  </tbody>\n",
       "</table>\n",
       "</div>"
      ],
      "text/plain": [
       "          Engine Size  Cylinders  Fuel Consumption  CO2 Rating\n",
       "mean         3.199683   5.669841         11.093439    4.537566\n",
       "median       3.000000   6.000000         10.800000    5.000000\n",
       "std          1.375231   1.932930          2.877491    1.471090\n",
       "quantile     3.000000   6.000000         10.800000    5.000000"
      ]
     },
     "execution_count": 120,
     "metadata": {},
     "output_type": "execute_result"
    }
   ],
   "source": [
    "df1[['Engine Size','Cylinders','Fuel Consumption','CO2 Rating']].agg(['mean','median','std','quantile'])"
   ]
  },
  {
   "cell_type": "markdown",
   "id": "06a92d21",
   "metadata": {},
   "source": [
    "## 3.2 Frequency Distribution for the categorical Columns\n",
    "<span id=\"distribute\"></span>\n"
   ]
  },
  {
   "cell_type": "code",
   "execution_count": 121,
   "id": "3a0005e8",
   "metadata": {},
   "outputs": [
    {
     "data": {
      "image/png": "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\n",
      "text/plain": [
       "<Figure size 1440x720 with 2 Axes>"
      ]
     },
     "metadata": {
      "needs_background": "light"
     },
     "output_type": "display_data"
    }
   ],
   "source": [
    "column_sets = ['Transmission', 'Fuel Type']\n",
    "fig, axs = plt.subplots(ncols=2, nrows=1, figsize=(20, 10))\n",
    "index = 0\n",
    "axs = axs.flatten()\n",
    "for i, k in enumerate(column_sets):\n",
    "    sns.histplot(x=df1[k],kde = True, ax=axs[i])\n",
    "plt.tight_layout(pad=0.4, w_pad=0.5, h_pad=5.0)"
   ]
  },
  {
   "cell_type": "markdown",
   "id": "41aba91c",
   "metadata": {},
   "source": [
    "## 3.3 Frequency Distribution on Numerical columns\n",
    "<span id=\"numerical\"></span>\n"
   ]
  },
  {
   "cell_type": "code",
   "execution_count": 122,
   "id": "8e74568d",
   "metadata": {
    "scrolled": false
   },
   "outputs": [
    {
     "data": {
      "image/png": "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\n",
      "text/plain": [
       "<Figure size 720x720 with 4 Axes>"
      ]
     },
     "metadata": {
      "needs_background": "light"
     },
     "output_type": "display_data"
    }
   ],
   "source": [
    "viz = df1[['Cylinders','Engine Size','CO2 Rating','Fuel Consumption']]\n",
    "viz.hist(color = 'Blue', figsize = (10, 10))\n",
    "plt.tight_layout();\n",
    "plt.show();"
   ]
  },
  {
   "cell_type": "markdown",
   "id": "1fcb4ea6",
   "metadata": {},
   "source": [
    "---\n",
    "# 4 Bivariate analysis\n",
    "<span id=\"bivariate\"></span>\n",
    "\n",
    "---"
   ]
  },
  {
   "cell_type": "markdown",
   "id": "7341c387",
   "metadata": {},
   "source": [
    "## 4.1 Comparison Between all columns\n",
    "<span id=\"compare\"></span>\n"
   ]
  },
  {
   "cell_type": "code",
   "execution_count": 123,
   "id": "3ddb9eb4",
   "metadata": {
    "scrolled": false
   },
   "outputs": [
    {
     "data": {
      "text/plain": [
       "<seaborn.axisgrid.PairGrid at 0x10632e60a00>"
      ]
     },
     "execution_count": 123,
     "metadata": {},
     "output_type": "execute_result"
    },
    {
     "data": {
      "image/png": "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\n",
      "text/plain": [
       "<Figure size 720x720 with 20 Axes>"
      ]
     },
     "metadata": {
      "needs_background": "light"
     },
     "output_type": "display_data"
    }
   ],
   "source": [
    "sns.pairplot(df1)"
   ]
  },
  {
   "cell_type": "markdown",
   "id": "99a98fff",
   "metadata": {},
   "source": [
    "  "
   ]
  },
  {
   "cell_type": "markdown",
   "id": "a8cecf81",
   "metadata": {},
   "source": [
    "## 4.2 Comparison between \"No. of cylinders\" & \"Fuel consumption\"\n",
    "<span id=\"comparecylinder\"></span>\n"
   ]
  },
  {
   "cell_type": "code",
   "execution_count": 124,
   "id": "fc46b05c",
   "metadata": {
    "scrolled": true
   },
   "outputs": [
    {
     "data": {
      "text/plain": [
       "Text(0, 0.5, 'Fuel Consumption')"
      ]
     },
     "execution_count": 124,
     "metadata": {},
     "output_type": "execute_result"
    },
    {
     "data": {
      "image/png": "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\n",
      "text/plain": [
       "<Figure size 432x288 with 1 Axes>"
      ]
     },
     "metadata": {
      "needs_background": "light"
     },
     "output_type": "display_data"
    }
   ],
   "source": [
    "sns.barplot(x=\"Cylinders\", y=\"Fuel Consumption\", data=df1)\n",
    "plt.ylabel('Fuel Consumption')"
   ]
  },
  {
   "cell_type": "markdown",
   "id": "6d77a2ee",
   "metadata": {},
   "source": [
    "## 4.3 Performing Chi Square analysis:-\n",
    "<span id=\"chi\"></span>\n"
   ]
  },
  {
   "cell_type": "code",
   "execution_count": 125,
   "id": "60f74a62",
   "metadata": {},
   "outputs": [],
   "source": [
    "from scipy.stats import chi2_contingency"
   ]
  },
  {
   "cell_type": "markdown",
   "id": "fcb047c7",
   "metadata": {},
   "source": [
    "### Chi Analysis for Transmission and Fuel Type:"
   ]
  },
  {
   "cell_type": "code",
   "execution_count": 126,
   "id": "8865c278",
   "metadata": {},
   "outputs": [],
   "source": [
    "ftt= pd.crosstab(df1['Transmission'],df1['Fuel Type'])"
   ]
  },
  {
   "cell_type": "code",
   "execution_count": 127,
   "id": "c0fa9d7f",
   "metadata": {
    "scrolled": true
   },
   "outputs": [
    {
     "data": {
      "text/html": [
       "<div>\n",
       "<style scoped>\n",
       "    .dataframe tbody tr th:only-of-type {\n",
       "        vertical-align: middle;\n",
       "    }\n",
       "\n",
       "    .dataframe tbody tr th {\n",
       "        vertical-align: top;\n",
       "    }\n",
       "\n",
       "    .dataframe thead th {\n",
       "        text-align: right;\n",
       "    }\n",
       "</style>\n",
       "<table border=\"1\" class=\"dataframe\">\n",
       "  <thead>\n",
       "    <tr style=\"text-align: right;\">\n",
       "      <th>Fuel Type</th>\n",
       "      <th>D</th>\n",
       "      <th>E</th>\n",
       "      <th>X</th>\n",
       "      <th>Z</th>\n",
       "    </tr>\n",
       "    <tr>\n",
       "      <th>Transmission</th>\n",
       "      <th></th>\n",
       "      <th></th>\n",
       "      <th></th>\n",
       "      <th></th>\n",
       "    </tr>\n",
       "  </thead>\n",
       "  <tbody>\n",
       "    <tr>\n",
       "      <th>A</th>\n",
       "      <td>28</td>\n",
       "      <td>6</td>\n",
       "      <td>141</td>\n",
       "      <td>87</td>\n",
       "    </tr>\n",
       "    <tr>\n",
       "      <th>AM</th>\n",
       "      <td>0</td>\n",
       "      <td>0</td>\n",
       "      <td>25</td>\n",
       "      <td>107</td>\n",
       "    </tr>\n",
       "    <tr>\n",
       "      <th>AS</th>\n",
       "      <td>0</td>\n",
       "      <td>8</td>\n",
       "      <td>150</td>\n",
       "      <td>207</td>\n",
       "    </tr>\n",
       "    <tr>\n",
       "      <th>AV</th>\n",
       "      <td>0</td>\n",
       "      <td>0</td>\n",
       "      <td>87</td>\n",
       "      <td>9</td>\n",
       "    </tr>\n",
       "    <tr>\n",
       "      <th>M</th>\n",
       "      <td>0</td>\n",
       "      <td>0</td>\n",
       "      <td>41</td>\n",
       "      <td>49</td>\n",
       "    </tr>\n",
       "  </tbody>\n",
       "</table>\n",
       "</div>"
      ],
      "text/plain": [
       "Fuel Type      D  E    X    Z\n",
       "Transmission                 \n",
       "A             28  6  141   87\n",
       "AM             0  0   25  107\n",
       "AS             0  8  150  207\n",
       "AV             0  0   87    9\n",
       "M              0  0   41   49"
      ]
     },
     "execution_count": 127,
     "metadata": {},
     "output_type": "execute_result"
    }
   ],
   "source": [
    "ftt"
   ]
  },
  {
   "cell_type": "code",
   "execution_count": 128,
   "id": "2c015328",
   "metadata": {},
   "outputs": [],
   "source": [
    "Chi_square_statistic,p,dof,expec = chi2_contingency(ftt)"
   ]
  },
  {
   "cell_type": "code",
   "execution_count": 129,
   "id": "f4a79d24",
   "metadata": {},
   "outputs": [
    {
     "name": "stdout",
     "output_type": "stream",
     "text": [
      "p_value is 3.762904200058271e-41\n",
      "Dependent\n",
      "dof is 12\n"
     ]
    }
   ],
   "source": [
    "alpha = 0.05\n",
    "print(\"p_value is \" + str(p))\n",
    "if p <= alpha:\n",
    "    print('Dependent')\n",
    "    print('dof is ' +str(dof))\n",
    "else:\n",
    "    print('Independent')\n",
    "    print('dof is ' +str(dof))"
   ]
  },
  {
   "cell_type": "markdown",
   "id": "f794d978",
   "metadata": {},
   "source": [
    "### Chi Analysis for Transmission and Vehicle Class:"
   ]
  },
  {
   "cell_type": "code",
   "execution_count": 130,
   "id": "58b655b3",
   "metadata": {},
   "outputs": [],
   "source": [
    "vct=pd.crosstab(df1['Transmission'],df1['Vehicle Class'])"
   ]
  },
  {
   "cell_type": "code",
   "execution_count": 131,
   "id": "68f4ada1",
   "metadata": {},
   "outputs": [
    {
     "data": {
      "text/html": [
       "<div>\n",
       "<style scoped>\n",
       "    .dataframe tbody tr th:only-of-type {\n",
       "        vertical-align: middle;\n",
       "    }\n",
       "\n",
       "    .dataframe tbody tr th {\n",
       "        vertical-align: top;\n",
       "    }\n",
       "\n",
       "    .dataframe thead th {\n",
       "        text-align: right;\n",
       "    }\n",
       "</style>\n",
       "<table border=\"1\" class=\"dataframe\">\n",
       "  <thead>\n",
       "    <tr style=\"text-align: right;\">\n",
       "      <th>Vehicle Class</th>\n",
       "      <th>Compact</th>\n",
       "      <th>Full-size</th>\n",
       "      <th>Mid-size</th>\n",
       "      <th>Minicompact</th>\n",
       "      <th>Minivan</th>\n",
       "      <th>Pickup truck: Small</th>\n",
       "      <th>Pickup truck: Standard</th>\n",
       "      <th>SUV: Small</th>\n",
       "      <th>SUV: Standard</th>\n",
       "      <th>Special purpose vehicle</th>\n",
       "      <th>Station wagon: Mid-size</th>\n",
       "      <th>Station wagon: Small</th>\n",
       "      <th>Subcompact</th>\n",
       "      <th>Two-seater</th>\n",
       "    </tr>\n",
       "    <tr>\n",
       "      <th>Transmission</th>\n",
       "      <th></th>\n",
       "      <th></th>\n",
       "      <th></th>\n",
       "      <th></th>\n",
       "      <th></th>\n",
       "      <th></th>\n",
       "      <th></th>\n",
       "      <th></th>\n",
       "      <th></th>\n",
       "      <th></th>\n",
       "      <th></th>\n",
       "      <th></th>\n",
       "      <th></th>\n",
       "      <th></th>\n",
       "    </tr>\n",
       "  </thead>\n",
       "  <tbody>\n",
       "    <tr>\n",
       "      <th>A</th>\n",
       "      <td>3</td>\n",
       "      <td>16</td>\n",
       "      <td>18</td>\n",
       "      <td>3</td>\n",
       "      <td>3</td>\n",
       "      <td>15</td>\n",
       "      <td>74</td>\n",
       "      <td>47</td>\n",
       "      <td>67</td>\n",
       "      <td>4</td>\n",
       "      <td>1</td>\n",
       "      <td>0</td>\n",
       "      <td>10</td>\n",
       "      <td>1</td>\n",
       "    </tr>\n",
       "    <tr>\n",
       "      <th>AM</th>\n",
       "      <td>8</td>\n",
       "      <td>18</td>\n",
       "      <td>12</td>\n",
       "      <td>25</td>\n",
       "      <td>0</td>\n",
       "      <td>1</td>\n",
       "      <td>0</td>\n",
       "      <td>16</td>\n",
       "      <td>0</td>\n",
       "      <td>0</td>\n",
       "      <td>2</td>\n",
       "      <td>8</td>\n",
       "      <td>16</td>\n",
       "      <td>26</td>\n",
       "    </tr>\n",
       "    <tr>\n",
       "      <th>AS</th>\n",
       "      <td>34</td>\n",
       "      <td>19</td>\n",
       "      <td>46</td>\n",
       "      <td>4</td>\n",
       "      <td>2</td>\n",
       "      <td>1</td>\n",
       "      <td>38</td>\n",
       "      <td>91</td>\n",
       "      <td>69</td>\n",
       "      <td>8</td>\n",
       "      <td>4</td>\n",
       "      <td>2</td>\n",
       "      <td>34</td>\n",
       "      <td>13</td>\n",
       "    </tr>\n",
       "    <tr>\n",
       "      <th>AV</th>\n",
       "      <td>11</td>\n",
       "      <td>9</td>\n",
       "      <td>22</td>\n",
       "      <td>0</td>\n",
       "      <td>2</td>\n",
       "      <td>1</td>\n",
       "      <td>0</td>\n",
       "      <td>36</td>\n",
       "      <td>5</td>\n",
       "      <td>0</td>\n",
       "      <td>1</td>\n",
       "      <td>7</td>\n",
       "      <td>2</td>\n",
       "      <td>0</td>\n",
       "    </tr>\n",
       "    <tr>\n",
       "      <th>M</th>\n",
       "      <td>13</td>\n",
       "      <td>2</td>\n",
       "      <td>19</td>\n",
       "      <td>16</td>\n",
       "      <td>0</td>\n",
       "      <td>2</td>\n",
       "      <td>1</td>\n",
       "      <td>7</td>\n",
       "      <td>0</td>\n",
       "      <td>0</td>\n",
       "      <td>0</td>\n",
       "      <td>2</td>\n",
       "      <td>17</td>\n",
       "      <td>11</td>\n",
       "    </tr>\n",
       "  </tbody>\n",
       "</table>\n",
       "</div>"
      ],
      "text/plain": [
       "Vehicle Class  Compact  Full-size  Mid-size  Minicompact  Minivan  \\\n",
       "Transmission                                                        \n",
       "A                    3         16        18            3        3   \n",
       "AM                   8         18        12           25        0   \n",
       "AS                  34         19        46            4        2   \n",
       "AV                  11          9        22            0        2   \n",
       "M                   13          2        19           16        0   \n",
       "\n",
       "Vehicle Class  Pickup truck: Small  Pickup truck: Standard  SUV: Small  \\\n",
       "Transmission                                                             \n",
       "A                               15                      74          47   \n",
       "AM                               1                       0          16   \n",
       "AS                               1                      38          91   \n",
       "AV                               1                       0          36   \n",
       "M                                2                       1           7   \n",
       "\n",
       "Vehicle Class  SUV: Standard  Special purpose vehicle  \\\n",
       "Transmission                                            \n",
       "A                         67                        4   \n",
       "AM                         0                        0   \n",
       "AS                        69                        8   \n",
       "AV                         5                        0   \n",
       "M                          0                        0   \n",
       "\n",
       "Vehicle Class  Station wagon: Mid-size  Station wagon: Small  Subcompact  \\\n",
       "Transmission                                                               \n",
       "A                                    1                     0          10   \n",
       "AM                                   2                     8          16   \n",
       "AS                                   4                     2          34   \n",
       "AV                                   1                     7           2   \n",
       "M                                    0                     2          17   \n",
       "\n",
       "Vehicle Class  Two-seater  \n",
       "Transmission               \n",
       "A                       1  \n",
       "AM                     26  \n",
       "AS                     13  \n",
       "AV                      0  \n",
       "M                      11  "
      ]
     },
     "execution_count": 131,
     "metadata": {},
     "output_type": "execute_result"
    }
   ],
   "source": [
    "vct"
   ]
  },
  {
   "cell_type": "code",
   "execution_count": 132,
   "id": "4aba7908",
   "metadata": {
    "scrolled": true
   },
   "outputs": [],
   "source": [
    "Chi_square_statistic,p,dof,expec = chi2_contingency(vct)"
   ]
  },
  {
   "cell_type": "code",
   "execution_count": 133,
   "id": "979ebd7e",
   "metadata": {},
   "outputs": [
    {
     "name": "stdout",
     "output_type": "stream",
     "text": [
      "p_value is 3.356375805194314e-79\n",
      "Dependent\n",
      "dof is 52\n"
     ]
    }
   ],
   "source": [
    "alpha = 0.05\n",
    "print(\"p_value is \" + str(p))\n",
    "if p <= alpha:\n",
    "    print('Dependent')\n",
    "    print('dof is ' +str(dof))\n",
    "else:\n",
    "    print('Independent')\n",
    "    print('dof is ' +str(dof))"
   ]
  },
  {
   "cell_type": "markdown",
   "id": "62e5ce80",
   "metadata": {},
   "source": [
    "## 4.4 Heatmap showing \"Pearson correlation\" :\n",
    "<span id=\"heatcorr\"></span>\n"
   ]
  },
  {
   "cell_type": "code",
   "execution_count": 134,
   "id": "846b8c37",
   "metadata": {
    "scrolled": true
   },
   "outputs": [
    {
     "data": {
      "text/plain": [
       "<AxesSubplot:>"
      ]
     },
     "execution_count": 134,
     "metadata": {},
     "output_type": "execute_result"
    },
    {
     "data": {
      "image/png": "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\n",
      "text/plain": [
       "<Figure size 432x288 with 2 Axes>"
      ]
     },
     "metadata": {
      "needs_background": "light"
     },
     "output_type": "display_data"
    }
   ],
   "source": [
    "sns.heatmap(df1.corr(),annot=True)"
   ]
  },
  {
   "cell_type": "markdown",
   "id": "21f477fd",
   "metadata": {},
   "source": [
    "  "
   ]
  },
  {
   "cell_type": "markdown",
   "id": "992323c3",
   "metadata": {},
   "source": [
    "-----\n",
    "<center>\n",
    "<h1 style=\"font-size: 40px; font-family: serif;\">5. Data Preprocessing</h1>\n",
    "</center>\n",
    "<span id=\"prepro\"></span>\n",
    "\n",
    "---"
   ]
  },
  {
   "cell_type": "markdown",
   "id": "e4e17c7a",
   "metadata": {},
   "source": [
    "\n",
    "# 5.1 Outlier analysis\n",
    "<span id=\"outlier\"></span>\n"
   ]
  },
  {
   "cell_type": "code",
   "execution_count": 135,
   "id": "7e62646b",
   "metadata": {
    "scrolled": true
   },
   "outputs": [
    {
     "data": {
      "image/png": "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\n",
      "text/plain": [
       "<Figure size 432x288 with 1 Axes>"
      ]
     },
     "metadata": {
      "needs_background": "light"
     },
     "output_type": "display_data"
    },
    {
     "data": {
      "image/png": "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\n",
      "text/plain": [
       "<Figure size 432x288 with 1 Axes>"
      ]
     },
     "metadata": {
      "needs_background": "light"
     },
     "output_type": "display_data"
    },
    {
     "data": {
      "image/png": "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\n",
      "text/plain": [
       "<Figure size 432x288 with 1 Axes>"
      ]
     },
     "metadata": {
      "needs_background": "light"
     },
     "output_type": "display_data"
    },
    {
     "data": {
      "image/png": "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\n",
      "text/plain": [
       "<Figure size 432x288 with 1 Axes>"
      ]
     },
     "metadata": {
      "needs_background": "light"
     },
     "output_type": "display_data"
    }
   ],
   "source": [
    "for c in df1.columns:\n",
    "    if df1[c].dtypes!= object:\n",
    "        sns.boxplot(y=c,data=df1)\n",
    "        plt.show()"
   ]
  },
  {
   "cell_type": "code",
   "execution_count": 136,
   "id": "1a057310",
   "metadata": {
    "scrolled": true
   },
   "outputs": [
    {
     "data": {
      "image/png": "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\n",
      "text/plain": [
       "<Figure size 432x288 with 1 Axes>"
      ]
     },
     "metadata": {
      "needs_background": "light"
     },
     "output_type": "display_data"
    },
    {
     "data": {
      "image/png": "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\n",
      "text/plain": [
       "<Figure size 432x288 with 1 Axes>"
      ]
     },
     "metadata": {
      "needs_background": "light"
     },
     "output_type": "display_data"
    },
    {
     "data": {
      "image/png": "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\n",
      "text/plain": [
       "<Figure size 432x288 with 1 Axes>"
      ]
     },
     "metadata": {
      "needs_background": "light"
     },
     "output_type": "display_data"
    },
    {
     "data": {
      "image/png": "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\n",
      "text/plain": [
       "<Figure size 432x288 with 1 Axes>"
      ]
     },
     "metadata": {
      "needs_background": "light"
     },
     "output_type": "display_data"
    }
   ],
   "source": [
    "for c in df1.columns:\n",
    "    if df1[c].dtypes!= object:\n",
    "        percentile25=df1[c].quantile(0.25)\n",
    "        percentile75=df1[c].quantile(0.75)\n",
    "        iqr=percentile75-percentile25\n",
    "        upp_limit=percentile75+(1.5*iqr)\n",
    "        lower_limit=percentile25-(1.5*iqr)\n",
    "        df1=df1[df1[c]<=upp_limit]\n",
    "        df1=df1[df1[c]>=lower_limit]\n",
    "        plt.figure()\n",
    "        sns.boxplot(y=c,data=df1)\n"
   ]
  },
  {
   "cell_type": "code",
   "execution_count": 137,
   "id": "3f2026c2",
   "metadata": {},
   "outputs": [
    {
     "data": {
      "text/plain": [
       "(783, 7)"
      ]
     },
     "execution_count": 137,
     "metadata": {},
     "output_type": "execute_result"
    }
   ],
   "source": [
    "df1.shape"
   ]
  },
  {
   "cell_type": "markdown",
   "id": "d7c096c7",
   "metadata": {},
   "source": [
    "## 5.2 Creating X And Y for models\n",
    "<span id=\"x&y\"></span>\n"
   ]
  },
  {
   "cell_type": "code",
   "execution_count": 138,
   "id": "ba4169dd",
   "metadata": {},
   "outputs": [
    {
     "data": {
      "text/html": [
       "<div>\n",
       "<style scoped>\n",
       "    .dataframe tbody tr th:only-of-type {\n",
       "        vertical-align: middle;\n",
       "    }\n",
       "\n",
       "    .dataframe tbody tr th {\n",
       "        vertical-align: top;\n",
       "    }\n",
       "\n",
       "    .dataframe thead th {\n",
       "        text-align: right;\n",
       "    }\n",
       "</style>\n",
       "<table border=\"1\" class=\"dataframe\">\n",
       "  <thead>\n",
       "    <tr style=\"text-align: right;\">\n",
       "      <th></th>\n",
       "      <th>Vehicle Class</th>\n",
       "      <th>Engine Size</th>\n",
       "      <th>Cylinders</th>\n",
       "      <th>Transmission</th>\n",
       "      <th>Fuel Type</th>\n",
       "      <th>CO2 Rating</th>\n",
       "    </tr>\n",
       "  </thead>\n",
       "  <tbody>\n",
       "    <tr>\n",
       "      <th>0</th>\n",
       "      <td>Compact</td>\n",
       "      <td>2.4</td>\n",
       "      <td>4</td>\n",
       "      <td>AM</td>\n",
       "      <td>Z</td>\n",
       "      <td>6.0</td>\n",
       "    </tr>\n",
       "    <tr>\n",
       "      <th>1</th>\n",
       "      <td>SUV: Small</td>\n",
       "      <td>3.5</td>\n",
       "      <td>6</td>\n",
       "      <td>AS</td>\n",
       "      <td>Z</td>\n",
       "      <td>4.0</td>\n",
       "    </tr>\n",
       "    <tr>\n",
       "      <th>2</th>\n",
       "      <td>SUV: Small</td>\n",
       "      <td>2.0</td>\n",
       "      <td>4</td>\n",
       "      <td>AS</td>\n",
       "      <td>Z</td>\n",
       "      <td>5.0</td>\n",
       "    </tr>\n",
       "    <tr>\n",
       "      <th>3</th>\n",
       "      <td>SUV: Small</td>\n",
       "      <td>2.0</td>\n",
       "      <td>4</td>\n",
       "      <td>AS</td>\n",
       "      <td>Z</td>\n",
       "      <td>5.0</td>\n",
       "    </tr>\n",
       "    <tr>\n",
       "      <th>4</th>\n",
       "      <td>Compact</td>\n",
       "      <td>2.0</td>\n",
       "      <td>4</td>\n",
       "      <td>AS</td>\n",
       "      <td>Z</td>\n",
       "      <td>5.0</td>\n",
       "    </tr>\n",
       "    <tr>\n",
       "      <th>...</th>\n",
       "      <td>...</td>\n",
       "      <td>...</td>\n",
       "      <td>...</td>\n",
       "      <td>...</td>\n",
       "      <td>...</td>\n",
       "      <td>...</td>\n",
       "    </tr>\n",
       "    <tr>\n",
       "      <th>940</th>\n",
       "      <td>SUV: Small</td>\n",
       "      <td>2.0</td>\n",
       "      <td>4</td>\n",
       "      <td>AS</td>\n",
       "      <td>Z</td>\n",
       "      <td>5.0</td>\n",
       "    </tr>\n",
       "    <tr>\n",
       "      <th>941</th>\n",
       "      <td>SUV: Small</td>\n",
       "      <td>2.0</td>\n",
       "      <td>4</td>\n",
       "      <td>AS</td>\n",
       "      <td>Z</td>\n",
       "      <td>5.0</td>\n",
       "    </tr>\n",
       "    <tr>\n",
       "      <th>942</th>\n",
       "      <td>SUV: Small</td>\n",
       "      <td>2.0</td>\n",
       "      <td>4</td>\n",
       "      <td>AS</td>\n",
       "      <td>Z</td>\n",
       "      <td>5.0</td>\n",
       "    </tr>\n",
       "    <tr>\n",
       "      <th>943</th>\n",
       "      <td>SUV: Standard</td>\n",
       "      <td>2.0</td>\n",
       "      <td>4</td>\n",
       "      <td>AS</td>\n",
       "      <td>Z</td>\n",
       "      <td>5.0</td>\n",
       "    </tr>\n",
       "    <tr>\n",
       "      <th>944</th>\n",
       "      <td>SUV: Standard</td>\n",
       "      <td>2.0</td>\n",
       "      <td>4</td>\n",
       "      <td>AS</td>\n",
       "      <td>Z</td>\n",
       "      <td>5.0</td>\n",
       "    </tr>\n",
       "  </tbody>\n",
       "</table>\n",
       "<p>783 rows × 6 columns</p>\n",
       "</div>"
      ],
      "text/plain": [
       "     Vehicle Class  Engine Size  Cylinders Transmission Fuel Type  CO2 Rating\n",
       "0          Compact          2.4          4           AM         Z         6.0\n",
       "1       SUV: Small          3.5          6           AS         Z         4.0\n",
       "2       SUV: Small          2.0          4           AS         Z         5.0\n",
       "3       SUV: Small          2.0          4           AS         Z         5.0\n",
       "4          Compact          2.0          4           AS         Z         5.0\n",
       "..             ...          ...        ...          ...       ...         ...\n",
       "940     SUV: Small          2.0          4           AS         Z         5.0\n",
       "941     SUV: Small          2.0          4           AS         Z         5.0\n",
       "942     SUV: Small          2.0          4           AS         Z         5.0\n",
       "943  SUV: Standard          2.0          4           AS         Z         5.0\n",
       "944  SUV: Standard          2.0          4           AS         Z         5.0\n",
       "\n",
       "[783 rows x 6 columns]"
      ]
     },
     "execution_count": 138,
     "metadata": {},
     "output_type": "execute_result"
    }
   ],
   "source": [
    "x= df1.drop('Fuel Consumption',axis=1)\n",
    "x"
   ]
  },
  {
   "cell_type": "code",
   "execution_count": 139,
   "id": "76db4e26",
   "metadata": {},
   "outputs": [
    {
     "data": {
      "text/plain": [
       "0       8.6\n",
       "1      11.2\n",
       "2       9.9\n",
       "3      10.3\n",
       "4       9.8\n",
       "       ... \n",
       "940     9.4\n",
       "941     9.4\n",
       "942     9.9\n",
       "943    10.1\n",
       "944    10.8\n",
       "Name: Fuel Consumption, Length: 783, dtype: float64"
      ]
     },
     "execution_count": 139,
     "metadata": {},
     "output_type": "execute_result"
    }
   ],
   "source": [
    "y= df1['Fuel Consumption']\n",
    "y"
   ]
  },
  {
   "cell_type": "markdown",
   "id": "b523b4d8",
   "metadata": {},
   "source": [
    "## 5.3 Ordinal encoding\n",
    "<span id=\"ordinal\"></span>\n"
   ]
  },
  {
   "cell_type": "code",
   "execution_count": 140,
   "id": "49427e3b",
   "metadata": {},
   "outputs": [],
   "source": [
    "from sklearn.preprocessing import OneHotEncoder, OrdinalEncoder"
   ]
  },
  {
   "cell_type": "code",
   "execution_count": 141,
   "id": "90813a8f",
   "metadata": {},
   "outputs": [],
   "source": [
    "order = ['AV', 'AM', 'M', 'AS', 'A']\n",
    "\n",
    "od = OrdinalEncoder(categories = [order])\n",
    "\n",
    "x[\"Transmission\"] = od.fit_transform(x[[\"Transmission\"]])"
   ]
  },
  {
   "cell_type": "code",
   "execution_count": 142,
   "id": "ee71b250",
   "metadata": {},
   "outputs": [],
   "source": [
    "order = ['Two-seater','Minicompact','Compact','Subcompact','Mid-size','Full-size','SUV: Small','SUV: Standard','Minivan', 'Station wagon: Small','Station wagon: Mid-size', 'Pickup truck: Small', 'Special purpose vehicle', 'Pickup truck: Standard']\n",
    "\n",
    "od = OrdinalEncoder(categories = [order])\n",
    "\n",
    "x[\"Vehicle Class\"] = od.fit_transform(x[[\"Vehicle Class\"]])"
   ]
  },
  {
   "cell_type": "markdown",
   "id": "46c04de3",
   "metadata": {},
   "source": [
    "## 5.4 One Hot encoding on categorical columns\n",
    "<span id=\"onehot\"></span>\n"
   ]
  },
  {
   "cell_type": "code",
   "execution_count": 143,
   "id": "a43d03d0",
   "metadata": {},
   "outputs": [
    {
     "data": {
      "text/html": [
       "<div>\n",
       "<style scoped>\n",
       "    .dataframe tbody tr th:only-of-type {\n",
       "        vertical-align: middle;\n",
       "    }\n",
       "\n",
       "    .dataframe tbody tr th {\n",
       "        vertical-align: top;\n",
       "    }\n",
       "\n",
       "    .dataframe thead th {\n",
       "        text-align: right;\n",
       "    }\n",
       "</style>\n",
       "<table border=\"1\" class=\"dataframe\">\n",
       "  <thead>\n",
       "    <tr style=\"text-align: right;\">\n",
       "      <th></th>\n",
       "      <th>x0_D</th>\n",
       "      <th>x0_E</th>\n",
       "      <th>x0_X</th>\n",
       "      <th>x0_Z</th>\n",
       "    </tr>\n",
       "  </thead>\n",
       "  <tbody>\n",
       "    <tr>\n",
       "      <th>0</th>\n",
       "      <td>0.0</td>\n",
       "      <td>0.0</td>\n",
       "      <td>0.0</td>\n",
       "      <td>1.0</td>\n",
       "    </tr>\n",
       "    <tr>\n",
       "      <th>1</th>\n",
       "      <td>0.0</td>\n",
       "      <td>0.0</td>\n",
       "      <td>0.0</td>\n",
       "      <td>1.0</td>\n",
       "    </tr>\n",
       "    <tr>\n",
       "      <th>2</th>\n",
       "      <td>0.0</td>\n",
       "      <td>0.0</td>\n",
       "      <td>0.0</td>\n",
       "      <td>1.0</td>\n",
       "    </tr>\n",
       "    <tr>\n",
       "      <th>3</th>\n",
       "      <td>0.0</td>\n",
       "      <td>0.0</td>\n",
       "      <td>0.0</td>\n",
       "      <td>1.0</td>\n",
       "    </tr>\n",
       "    <tr>\n",
       "      <th>4</th>\n",
       "      <td>0.0</td>\n",
       "      <td>0.0</td>\n",
       "      <td>0.0</td>\n",
       "      <td>1.0</td>\n",
       "    </tr>\n",
       "    <tr>\n",
       "      <th>...</th>\n",
       "      <td>...</td>\n",
       "      <td>...</td>\n",
       "      <td>...</td>\n",
       "      <td>...</td>\n",
       "    </tr>\n",
       "    <tr>\n",
       "      <th>778</th>\n",
       "      <td>0.0</td>\n",
       "      <td>0.0</td>\n",
       "      <td>0.0</td>\n",
       "      <td>1.0</td>\n",
       "    </tr>\n",
       "    <tr>\n",
       "      <th>779</th>\n",
       "      <td>0.0</td>\n",
       "      <td>0.0</td>\n",
       "      <td>0.0</td>\n",
       "      <td>1.0</td>\n",
       "    </tr>\n",
       "    <tr>\n",
       "      <th>780</th>\n",
       "      <td>0.0</td>\n",
       "      <td>0.0</td>\n",
       "      <td>0.0</td>\n",
       "      <td>1.0</td>\n",
       "    </tr>\n",
       "    <tr>\n",
       "      <th>781</th>\n",
       "      <td>0.0</td>\n",
       "      <td>0.0</td>\n",
       "      <td>0.0</td>\n",
       "      <td>1.0</td>\n",
       "    </tr>\n",
       "    <tr>\n",
       "      <th>782</th>\n",
       "      <td>0.0</td>\n",
       "      <td>0.0</td>\n",
       "      <td>0.0</td>\n",
       "      <td>1.0</td>\n",
       "    </tr>\n",
       "  </tbody>\n",
       "</table>\n",
       "<p>783 rows × 4 columns</p>\n",
       "</div>"
      ],
      "text/plain": [
       "     x0_D  x0_E  x0_X  x0_Z\n",
       "0     0.0   0.0   0.0   1.0\n",
       "1     0.0   0.0   0.0   1.0\n",
       "2     0.0   0.0   0.0   1.0\n",
       "3     0.0   0.0   0.0   1.0\n",
       "4     0.0   0.0   0.0   1.0\n",
       "..    ...   ...   ...   ...\n",
       "778   0.0   0.0   0.0   1.0\n",
       "779   0.0   0.0   0.0   1.0\n",
       "780   0.0   0.0   0.0   1.0\n",
       "781   0.0   0.0   0.0   1.0\n",
       "782   0.0   0.0   0.0   1.0\n",
       "\n",
       "[783 rows x 4 columns]"
      ]
     },
     "execution_count": 143,
     "metadata": {},
     "output_type": "execute_result"
    }
   ],
   "source": [
    "oh = OneHotEncoder(sparse = False)\n",
    "newx = pd.DataFrame(oh.fit_transform(x[['Fuel Type']]))\n",
    "newx.columns = oh.get_feature_names()\n",
    "newx"
   ]
  },
  {
   "cell_type": "code",
   "execution_count": 144,
   "id": "bace54c2",
   "metadata": {},
   "outputs": [],
   "source": [
    "x = x.reset_index()"
   ]
  },
  {
   "cell_type": "code",
   "execution_count": 145,
   "id": "08b356c1",
   "metadata": {},
   "outputs": [
    {
     "data": {
      "text/html": [
       "<div>\n",
       "<style scoped>\n",
       "    .dataframe tbody tr th:only-of-type {\n",
       "        vertical-align: middle;\n",
       "    }\n",
       "\n",
       "    .dataframe tbody tr th {\n",
       "        vertical-align: top;\n",
       "    }\n",
       "\n",
       "    .dataframe thead th {\n",
       "        text-align: right;\n",
       "    }\n",
       "</style>\n",
       "<table border=\"1\" class=\"dataframe\">\n",
       "  <thead>\n",
       "    <tr style=\"text-align: right;\">\n",
       "      <th></th>\n",
       "      <th>index</th>\n",
       "      <th>Vehicle Class</th>\n",
       "      <th>Engine Size</th>\n",
       "      <th>Cylinders</th>\n",
       "      <th>Transmission</th>\n",
       "      <th>Fuel Type</th>\n",
       "      <th>CO2 Rating</th>\n",
       "      <th>x0_D</th>\n",
       "      <th>x0_E</th>\n",
       "      <th>x0_X</th>\n",
       "      <th>x0_Z</th>\n",
       "    </tr>\n",
       "  </thead>\n",
       "  <tbody>\n",
       "    <tr>\n",
       "      <th>0</th>\n",
       "      <td>0</td>\n",
       "      <td>2.0</td>\n",
       "      <td>2.4</td>\n",
       "      <td>4</td>\n",
       "      <td>1.0</td>\n",
       "      <td>Z</td>\n",
       "      <td>6.0</td>\n",
       "      <td>0.0</td>\n",
       "      <td>0.0</td>\n",
       "      <td>0.0</td>\n",
       "      <td>1.0</td>\n",
       "    </tr>\n",
       "    <tr>\n",
       "      <th>1</th>\n",
       "      <td>1</td>\n",
       "      <td>6.0</td>\n",
       "      <td>3.5</td>\n",
       "      <td>6</td>\n",
       "      <td>3.0</td>\n",
       "      <td>Z</td>\n",
       "      <td>4.0</td>\n",
       "      <td>0.0</td>\n",
       "      <td>0.0</td>\n",
       "      <td>0.0</td>\n",
       "      <td>1.0</td>\n",
       "    </tr>\n",
       "    <tr>\n",
       "      <th>2</th>\n",
       "      <td>2</td>\n",
       "      <td>6.0</td>\n",
       "      <td>2.0</td>\n",
       "      <td>4</td>\n",
       "      <td>3.0</td>\n",
       "      <td>Z</td>\n",
       "      <td>5.0</td>\n",
       "      <td>0.0</td>\n",
       "      <td>0.0</td>\n",
       "      <td>0.0</td>\n",
       "      <td>1.0</td>\n",
       "    </tr>\n",
       "    <tr>\n",
       "      <th>3</th>\n",
       "      <td>3</td>\n",
       "      <td>6.0</td>\n",
       "      <td>2.0</td>\n",
       "      <td>4</td>\n",
       "      <td>3.0</td>\n",
       "      <td>Z</td>\n",
       "      <td>5.0</td>\n",
       "      <td>0.0</td>\n",
       "      <td>0.0</td>\n",
       "      <td>0.0</td>\n",
       "      <td>1.0</td>\n",
       "    </tr>\n",
       "    <tr>\n",
       "      <th>4</th>\n",
       "      <td>4</td>\n",
       "      <td>2.0</td>\n",
       "      <td>2.0</td>\n",
       "      <td>4</td>\n",
       "      <td>3.0</td>\n",
       "      <td>Z</td>\n",
       "      <td>5.0</td>\n",
       "      <td>0.0</td>\n",
       "      <td>0.0</td>\n",
       "      <td>0.0</td>\n",
       "      <td>1.0</td>\n",
       "    </tr>\n",
       "  </tbody>\n",
       "</table>\n",
       "</div>"
      ],
      "text/plain": [
       "   index  Vehicle Class  Engine Size  Cylinders  Transmission Fuel Type  \\\n",
       "0      0            2.0          2.4          4           1.0         Z   \n",
       "1      1            6.0          3.5          6           3.0         Z   \n",
       "2      2            6.0          2.0          4           3.0         Z   \n",
       "3      3            6.0          2.0          4           3.0         Z   \n",
       "4      4            2.0          2.0          4           3.0         Z   \n",
       "\n",
       "   CO2 Rating  x0_D  x0_E  x0_X  x0_Z  \n",
       "0         6.0   0.0   0.0   0.0   1.0  \n",
       "1         4.0   0.0   0.0   0.0   1.0  \n",
       "2         5.0   0.0   0.0   0.0   1.0  \n",
       "3         5.0   0.0   0.0   0.0   1.0  \n",
       "4         5.0   0.0   0.0   0.0   1.0  "
      ]
     },
     "execution_count": 145,
     "metadata": {},
     "output_type": "execute_result"
    }
   ],
   "source": [
    "for c in newx.columns:\n",
    "    x[c] = newx[c]\n",
    "x.head()"
   ]
  },
  {
   "cell_type": "code",
   "execution_count": 146,
   "id": "5badea07",
   "metadata": {},
   "outputs": [],
   "source": [
    "colrn = {\"x0_D\":\"fuel type D\", \"x0_E\":\"fuel type E\", \"x0_X\":\"fuel type X\", \"x0_Z\":\"fuel type Z\"}"
   ]
  },
  {
   "cell_type": "code",
   "execution_count": 147,
   "id": "3e16b5f7",
   "metadata": {},
   "outputs": [],
   "source": [
    "x.rename(colrn, axis = 1, inplace = True)"
   ]
  },
  {
   "cell_type": "markdown",
   "id": "285a0dd1",
   "metadata": {},
   "source": [
    "## 5.5 Split into train and test set\n",
    "<span id=\"traintest\"></span>\n"
   ]
  },
  {
   "cell_type": "code",
   "execution_count": 148,
   "id": "d0c64f1c",
   "metadata": {},
   "outputs": [],
   "source": [
    "x = x.drop([\"Fuel Type\", \"index\"], axis = 1)\n",
    "y= df1['Fuel Consumption']"
   ]
  },
  {
   "cell_type": "code",
   "execution_count": 149,
   "id": "eee3328c",
   "metadata": {},
   "outputs": [],
   "source": [
    "from sklearn.model_selection import train_test_split\n",
    "xtrain, xtest, ytrain, ytest = train_test_split(x,y, test_size= 0.25 , random_state= 0)"
   ]
  },
  {
   "cell_type": "code",
   "execution_count": 150,
   "id": "f1ba16ff",
   "metadata": {},
   "outputs": [
    {
     "data": {
      "text/html": [
       "<div>\n",
       "<style scoped>\n",
       "    .dataframe tbody tr th:only-of-type {\n",
       "        vertical-align: middle;\n",
       "    }\n",
       "\n",
       "    .dataframe tbody tr th {\n",
       "        vertical-align: top;\n",
       "    }\n",
       "\n",
       "    .dataframe thead th {\n",
       "        text-align: right;\n",
       "    }\n",
       "</style>\n",
       "<table border=\"1\" class=\"dataframe\">\n",
       "  <thead>\n",
       "    <tr style=\"text-align: right;\">\n",
       "      <th></th>\n",
       "      <th>Vehicle Class</th>\n",
       "      <th>Engine Size</th>\n",
       "      <th>Cylinders</th>\n",
       "      <th>Transmission</th>\n",
       "      <th>CO2 Rating</th>\n",
       "      <th>fuel type D</th>\n",
       "      <th>fuel type E</th>\n",
       "      <th>fuel type X</th>\n",
       "      <th>fuel type Z</th>\n",
       "    </tr>\n",
       "  </thead>\n",
       "  <tbody>\n",
       "    <tr>\n",
       "      <th>605</th>\n",
       "      <td>6.0</td>\n",
       "      <td>2.0</td>\n",
       "      <td>4</td>\n",
       "      <td>0.0</td>\n",
       "      <td>5.0</td>\n",
       "      <td>0.0</td>\n",
       "      <td>0.0</td>\n",
       "      <td>1.0</td>\n",
       "      <td>0.0</td>\n",
       "    </tr>\n",
       "    <tr>\n",
       "      <th>62</th>\n",
       "      <td>3.0</td>\n",
       "      <td>2.0</td>\n",
       "      <td>4</td>\n",
       "      <td>3.0</td>\n",
       "      <td>6.0</td>\n",
       "      <td>0.0</td>\n",
       "      <td>0.0</td>\n",
       "      <td>0.0</td>\n",
       "      <td>1.0</td>\n",
       "    </tr>\n",
       "    <tr>\n",
       "      <th>78</th>\n",
       "      <td>3.0</td>\n",
       "      <td>3.0</td>\n",
       "      <td>6</td>\n",
       "      <td>3.0</td>\n",
       "      <td>4.0</td>\n",
       "      <td>0.0</td>\n",
       "      <td>0.0</td>\n",
       "      <td>0.0</td>\n",
       "      <td>1.0</td>\n",
       "    </tr>\n",
       "    <tr>\n",
       "      <th>354</th>\n",
       "      <td>13.0</td>\n",
       "      <td>6.2</td>\n",
       "      <td>8</td>\n",
       "      <td>4.0</td>\n",
       "      <td>3.0</td>\n",
       "      <td>0.0</td>\n",
       "      <td>0.0</td>\n",
       "      <td>0.0</td>\n",
       "      <td>1.0</td>\n",
       "    </tr>\n",
       "    <tr>\n",
       "      <th>443</th>\n",
       "      <td>6.0</td>\n",
       "      <td>3.6</td>\n",
       "      <td>6</td>\n",
       "      <td>2.0</td>\n",
       "      <td>4.0</td>\n",
       "      <td>0.0</td>\n",
       "      <td>0.0</td>\n",
       "      <td>1.0</td>\n",
       "      <td>0.0</td>\n",
       "    </tr>\n",
       "    <tr>\n",
       "      <th>...</th>\n",
       "      <td>...</td>\n",
       "      <td>...</td>\n",
       "      <td>...</td>\n",
       "      <td>...</td>\n",
       "      <td>...</td>\n",
       "      <td>...</td>\n",
       "      <td>...</td>\n",
       "      <td>...</td>\n",
       "      <td>...</td>\n",
       "    </tr>\n",
       "    <tr>\n",
       "      <th>763</th>\n",
       "      <td>4.0</td>\n",
       "      <td>2.0</td>\n",
       "      <td>4</td>\n",
       "      <td>1.0</td>\n",
       "      <td>5.0</td>\n",
       "      <td>0.0</td>\n",
       "      <td>0.0</td>\n",
       "      <td>0.0</td>\n",
       "      <td>1.0</td>\n",
       "    </tr>\n",
       "    <tr>\n",
       "      <th>192</th>\n",
       "      <td>13.0</td>\n",
       "      <td>6.2</td>\n",
       "      <td>8</td>\n",
       "      <td>4.0</td>\n",
       "      <td>3.0</td>\n",
       "      <td>0.0</td>\n",
       "      <td>0.0</td>\n",
       "      <td>0.0</td>\n",
       "      <td>1.0</td>\n",
       "    </tr>\n",
       "    <tr>\n",
       "      <th>629</th>\n",
       "      <td>0.0</td>\n",
       "      <td>4.0</td>\n",
       "      <td>6</td>\n",
       "      <td>2.0</td>\n",
       "      <td>4.0</td>\n",
       "      <td>0.0</td>\n",
       "      <td>0.0</td>\n",
       "      <td>0.0</td>\n",
       "      <td>1.0</td>\n",
       "    </tr>\n",
       "    <tr>\n",
       "      <th>559</th>\n",
       "      <td>9.0</td>\n",
       "      <td>2.0</td>\n",
       "      <td>4</td>\n",
       "      <td>1.0</td>\n",
       "      <td>5.0</td>\n",
       "      <td>0.0</td>\n",
       "      <td>0.0</td>\n",
       "      <td>0.0</td>\n",
       "      <td>1.0</td>\n",
       "    </tr>\n",
       "    <tr>\n",
       "      <th>684</th>\n",
       "      <td>6.0</td>\n",
       "      <td>2.0</td>\n",
       "      <td>4</td>\n",
       "      <td>1.0</td>\n",
       "      <td>4.0</td>\n",
       "      <td>0.0</td>\n",
       "      <td>0.0</td>\n",
       "      <td>0.0</td>\n",
       "      <td>1.0</td>\n",
       "    </tr>\n",
       "  </tbody>\n",
       "</table>\n",
       "<p>587 rows × 9 columns</p>\n",
       "</div>"
      ],
      "text/plain": [
       "     Vehicle Class  Engine Size  Cylinders  Transmission  CO2 Rating  \\\n",
       "605            6.0          2.0          4           0.0         5.0   \n",
       "62             3.0          2.0          4           3.0         6.0   \n",
       "78             3.0          3.0          6           3.0         4.0   \n",
       "354           13.0          6.2          8           4.0         3.0   \n",
       "443            6.0          3.6          6           2.0         4.0   \n",
       "..             ...          ...        ...           ...         ...   \n",
       "763            4.0          2.0          4           1.0         5.0   \n",
       "192           13.0          6.2          8           4.0         3.0   \n",
       "629            0.0          4.0          6           2.0         4.0   \n",
       "559            9.0          2.0          4           1.0         5.0   \n",
       "684            6.0          2.0          4           1.0         4.0   \n",
       "\n",
       "     fuel type D  fuel type E  fuel type X  fuel type Z  \n",
       "605          0.0          0.0          1.0          0.0  \n",
       "62           0.0          0.0          0.0          1.0  \n",
       "78           0.0          0.0          0.0          1.0  \n",
       "354          0.0          0.0          0.0          1.0  \n",
       "443          0.0          0.0          1.0          0.0  \n",
       "..           ...          ...          ...          ...  \n",
       "763          0.0          0.0          0.0          1.0  \n",
       "192          0.0          0.0          0.0          1.0  \n",
       "629          0.0          0.0          0.0          1.0  \n",
       "559          0.0          0.0          0.0          1.0  \n",
       "684          0.0          0.0          0.0          1.0  \n",
       "\n",
       "[587 rows x 9 columns]"
      ]
     },
     "execution_count": 150,
     "metadata": {},
     "output_type": "execute_result"
    }
   ],
   "source": [
    "xtrain"
   ]
  },
  {
   "cell_type": "markdown",
   "id": "ed14f7e6",
   "metadata": {},
   "source": [
    "## 5.6 Feature Scaling\n",
    "<span id=\"scailing\"></span>\n"
   ]
  },
  {
   "cell_type": "code",
   "execution_count": 151,
   "id": "c774adf3",
   "metadata": {},
   "outputs": [],
   "source": [
    "from sklearn.preprocessing import StandardScaler\n",
    "sc = StandardScaler()"
   ]
  },
  {
   "cell_type": "code",
   "execution_count": 152,
   "id": "775442de",
   "metadata": {},
   "outputs": [],
   "source": [
    "xtrain = sc.fit_transform(xtrain)"
   ]
  },
  {
   "cell_type": "code",
   "execution_count": 153,
   "id": "45ec62e2",
   "metadata": {},
   "outputs": [
    {
     "data": {
      "text/plain": [
       "array([[ 0.00287496, -0.98627012, -1.02846876, ..., -0.08283154,\n",
       "         1.12534851, -1.02588866],\n",
       "       [-0.84092626, -0.98627012, -1.02846876, ..., -0.08283154,\n",
       "        -0.88861361,  0.97476464],\n",
       "       [-0.84092626, -0.1368855 ,  0.2853749 , ..., -0.08283154,\n",
       "        -0.88861361,  0.97476464],\n",
       "       ...,\n",
       "       [-1.68472747,  0.71249913,  0.2853749 , ..., -0.08283154,\n",
       "        -0.88861361,  0.97476464],\n",
       "       [ 0.84667618, -0.98627012, -1.02846876, ..., -0.08283154,\n",
       "        -0.88861361,  0.97476464],\n",
       "       [ 0.00287496, -0.98627012, -1.02846876, ..., -0.08283154,\n",
       "        -0.88861361,  0.97476464]])"
      ]
     },
     "execution_count": 153,
     "metadata": {},
     "output_type": "execute_result"
    }
   ],
   "source": [
    "xtrain"
   ]
  },
  {
   "cell_type": "code",
   "execution_count": 154,
   "id": "0418858b",
   "metadata": {},
   "outputs": [],
   "source": [
    "xtest = sc.transform(xtest)"
   ]
  },
  {
   "cell_type": "code",
   "execution_count": 155,
   "id": "d323363f",
   "metadata": {},
   "outputs": [
    {
     "data": {
      "text/plain": [
       "array([[ 0.00287496,  0.28780682,  0.2853749 , ..., -0.08283154,\n",
       "         1.12534851, -1.02588866],\n",
       "       [-1.12219333, -0.98627012, -1.02846876, ..., -0.08283154,\n",
       "        -0.88861361,  0.97476464],\n",
       "       [ 1.97174447,  1.81669915,  1.59921856, ..., -0.08283154,\n",
       "         1.12534851, -1.02588866],\n",
       "       ...,\n",
       "       [-1.12219333, -0.98627012, -1.02846876, ..., -0.08283154,\n",
       "         1.12534851, -1.02588866],\n",
       "       [ 0.28414203,  1.81669915,  1.59921856, ..., -0.08283154,\n",
       "         1.12534851, -1.02588866],\n",
       "       [-0.55965918, -0.22182396,  0.2853749 , ..., -0.08283154,\n",
       "        -0.88861361,  0.97476464]])"
      ]
     },
     "execution_count": 155,
     "metadata": {},
     "output_type": "execute_result"
    }
   ],
   "source": [
    "xtest"
   ]
  },
  {
   "cell_type": "markdown",
   "id": "f5644c47",
   "metadata": {},
   "source": [
    "-----\n",
    "<center>\n",
    "<h1 style=\"font-size: 40px; font-family: serif;\">6. Training Models</h1>\n",
    "</center>\n",
    "<span id=\"model\"></span>\n",
    "\n",
    "---"
   ]
  },
  {
   "cell_type": "markdown",
   "id": "091f9a13",
   "metadata": {},
   "source": [
    "# 6.1 Linear Regression\n",
    "<span id=\"linear\"></span>\n"
   ]
  },
  {
   "cell_type": "code",
   "execution_count": 156,
   "id": "b425cd78",
   "metadata": {},
   "outputs": [],
   "source": [
    "from sklearn.linear_model import LinearRegression\n",
    "lr = LinearRegression()"
   ]
  },
  {
   "cell_type": "code",
   "execution_count": 157,
   "id": "c114c350",
   "metadata": {},
   "outputs": [
    {
     "data": {
      "text/plain": [
       "LinearRegression()"
      ]
     },
     "execution_count": 157,
     "metadata": {},
     "output_type": "execute_result"
    }
   ],
   "source": [
    "lr.fit(xtrain,ytrain)"
   ]
  },
  {
   "cell_type": "code",
   "execution_count": 158,
   "id": "a817ee71",
   "metadata": {},
   "outputs": [
    {
     "data": {
      "text/plain": [
       "11.131856899488927"
      ]
     },
     "execution_count": 158,
     "metadata": {},
     "output_type": "execute_result"
    }
   ],
   "source": [
    "lr.intercept_"
   ]
  },
  {
   "cell_type": "markdown",
   "id": "faa95b28",
   "metadata": {},
   "source": [
    "**Checking if model is overfitted or underfitted**"
   ]
  },
  {
   "cell_type": "code",
   "execution_count": 159,
   "id": "8cb4eef7",
   "metadata": {},
   "outputs": [
    {
     "name": "stdout",
     "output_type": "stream",
     "text": [
      "training score =  0.9260321308676589\n",
      "testing score =  0.9260920933921896\n"
     ]
    }
   ],
   "source": [
    "print(\"training score = \",lr.score(xtrain,ytrain))\n",
    "print(\"testing score = \",lr.score(xtest,ytest))"
   ]
  },
  {
   "cell_type": "code",
   "execution_count": 160,
   "id": "ec7ae667",
   "metadata": {},
   "outputs": [],
   "source": [
    "ypred = lr.predict(xtest)"
   ]
  },
  {
   "cell_type": "code",
   "execution_count": 161,
   "id": "806fc17a",
   "metadata": {},
   "outputs": [
    {
     "data": {
      "text/plain": [
       "0.9260920933921896"
      ]
     },
     "execution_count": 161,
     "metadata": {},
     "output_type": "execute_result"
    }
   ],
   "source": [
    "r2_score(ytest, ypred)"
   ]
  },
  {
   "cell_type": "code",
   "execution_count": 170,
   "id": "255663c8",
   "metadata": {},
   "outputs": [
    {
     "data": {
      "text/plain": [
       "<AxesSubplot:>"
      ]
     },
     "execution_count": 170,
     "metadata": {},
     "output_type": "execute_result"
    },
    {
     "data": {
      "image/png": "iVBORw0KGgoAAAANSUhEUgAAAXAAAAD4CAYAAAD1jb0+AAAAOXRFWHRTb2Z0d2FyZQBNYXRwbG90bGliIHZlcnNpb24zLjQuMywgaHR0cHM6Ly9tYXRwbG90bGliLm9yZy/MnkTPAAAACXBIWXMAAAsTAAALEwEAmpwYAAAeBElEQVR4nO3dfYxc13nf8e+zu6IaJkq8IeWYNrWkGNkEJLptyHW4cZBUilzVRNiolqwmYhyoblSihRo0EdpEdgAJCNDASdzWKCIUEWxVCSIxkSgmNoQSldMqtht0ae3QcUXZlU3TWmotWqKolWxUNvdlnv4xM6vZ4czOzJ37cs69vw9AcGf2Zc45985zn/Pcc++YuyMiIvEZK7oBIiKSjAK4iEikFMBFRCKlAC4iEikFcBGRSE3k+WJbt271nTt35vmSIiLRq9Vqr7j7lZ3P5xrAd+7cydzcXJ4vKSISPTOb7/a8SigiIpFSABcRiZQCuIhIpBTARUQipQAuIhIpBXARkUgpgMtIavOL3P/UaWrzi0U3RaRycl0HLuVSm1/klz85y9JKnU0TYzx85wz7dkwW3SyRylAGLonNnrnA0kqdusPySp3ZMxeKbpJIpSiAS2Izu7awaWKMcYPLJsaY2bWl6CaJVIpKKJLYvh2TPHznDLNnLjCza4vKJyI5UwCXkezbManALVIQlVBERCKlAC4iEikFcBGRSCmAi4hESgFcRCRSCuAiIpFSABcRiZQCuIhIpBTARUQipQAuIhIpBXARkUgpgIuIREoBXEQkUgrgIiKRUgAXEYmUAriISKQUwEVEIqUALiISKQVwEZFIKYCLiERKAVxEJFIK4CIikeobwM3sQTN72cxOdTz/a2b2nJk9a2a/n10TRUSkm0Ey8IeA97c/YWY3ADcDf9fdrwM+nn7TRERkI30DuLt/Hni14+l/BXzM3S82f+blDNomIiIbSFoDfxfwM2Z2wsw+Z2bv6fWDZnbYzObMbO78+fMJX05ERDolDeATwCQwA/w74FEzs24/6O4PuPu0u09feeWVCV9OREQ6JQ3gC8Axb/giUAe2ptcsERHpJ2kA/0vg5wDM7F3AJuCVlNokIiIDmOj3A2Z2BLge2GpmC8B9wIPAg82lhUvAHe7uWTZURETW6xvA3f32Ht/6UMptERGRIehKTBGRSCmAi4hESgFcRCRSCuAiIpFSABcRiZQCuIhIpBTARUQipQAuIhIpBXARkUgpgIuIREoBXEQkUgrgBajNL3L/U6epzS9Wug1peOTEWX7lUyd45MTZVP9uWcZHyq3vzawkXbX5RX75k7MsrdTZNDHGw3fOsG/HZOXakIZHTpzlo3/xDABf+HrjbsaH9k+N/HfLMj5SfsrAczZ75gJLK3XqDssrdWbPXBj5bw6bLWbRhiIcP3Vuw8dJxTg+mjFUkzLwnM3s2sKmiTGWV+pcNjHGzK4tI/29JNli2m0oyoE929Yy79bjNMQ2PpoxVJcCeM727Zjk4TtnmD1zgZldW0Z+o3XLFvv9zbTbUJRWueT4qXMc2LMtlfIJxDc+x04ucHG5jjP4PiDloABegH07JlN7gyXNFtNsQ5EO7Z9KLXC3i2V8avOLPDb3Aq2PwxofD3/GIOlRAI9UbX5xLUOMKVuUdM2eucBKvRG+Dfjgvu3aBypEATxC3Wqed91wTdHNkgJ0zsBu3bu96CZJjhTAI7RR3bs9M69CJhZ7f0dtf2z1ekmXAniEetW9q7YaIfb+ptX+WOr1kj6tA49QK+u6+6bd6970Ma5fHkXs/Y29/VI8ZeCR6pZ1xbZ+eVSx9zf29kvxzN37/1RKpqenfW5uLrfXq6JBa6qx145bYu9H7O2XfJhZzd2nL3leAbx6Yq8di1RNrwCuGngFxVp71f0+RNZTDbyCYqy9atYgcikF8AqKce1wv3u+qJZcLtqeg1EAr6jY1g5vNGtQdl4u2p6DUwCXKGw0a0hyR0YJl7bn4BTAJRq9Zg0x1vSlN23PwWkZYYm06oaTmzex+MbSUPXDzppjbDXIvNsb2/jERuO7Xq9lhH0zcDN7EDgIvOzuezq+92+BPwCudPdXuv2+5KNVN2zd2H/MGLh+2FlzvPfgdfzOE89GVYPMs6avGm32YjtHU5RB1oE/BLy/80kzuwr4h0C6HwcuibTqhq351DBrvDtrjsdPnQtynXj7OvBeX+ch1nX0ZaBrAdbrm4G7++fNbGeXb/0n4DeBT6fdKBleq264tFynTiMDH7R+2FlzPLBnG08//2pQNcj2rHdizMCMldU6E+Nj4M5K3XPLhlWjLYZmPpdKdBLTzH4B+Ja7f9nM+v3sYeAwwNRU+h99Nayy1tbaV2kMWwPvtsJj99uuCGqc1mW9qw742mdAArl+HmSM6+jLQKtTLjV0ADezzcBvAzcN8vPu/gDwADROYg77emkq+xF8lLph5++GVoNsz3rHmxn46mqd8WYGvlr3XLPh0ManCjTzuVSSDPzHgauBVva9HThpZj/p7t9Os3FpS3IEL2vGHpvOrBfo+rW2UXlp5nOpoQO4uz8DvLX12MyeB6ZjWIUy7BG87Bl7bLrNErp9LeWlmc96gywjPAJcD2w1swXgPnf/VNYNy8KwR3DV3ETCMOxMuCoz50FWodze5/s7U2tNDoY5gqvmJlK8YWfCVZo561L6DajmJlK8YWfCVZo5K4D3oZqbSLGGnQlXaease6GISPCqXgNPfC+U2JVtQ+Yl9ptbSbkMOxOuysy51AG8Sicz0lSGm1uJVEGpP9RYNx1K5vGTC1xcDv/mViJVV+oA3jqZMT7EjZ2qrja/yNHawtpdDcfHjAN7tmkcRQJU6hKKlgEOb/bMBVZWGzeIMuC26as4tH8quJtbiUjJAzhU52RGWjqXYN2ydzugcRQJUekDuAxHs5b4aIVQdSmAyyWUbcdDK62qrdQnMUXKTiutqk0BXCRiWmlVbSqhVJzqp2FIuh10zqLaFMArTPXTMIy6HXTOorpUQumiNr/I/U+dpja/WHRTMjVM/bTfmAwyZlUZ12GFWsfW9uotlLFRBt6hSlnpoLfd7Dcmg4xZlcZ1WCHe/lTbq7eQxkYZeIdQs6EstOqnd9+0e8OdsN+YDDJmVRrXYQ26HfKk7dVbSGOjDLxDiNlQlgapn/Ybk0HGrGrjOqzQ6tjaXr2FNDb6QIcuavOLHDvZuKHTrXu3B/XGKkq/VRKDrKJo/czk5k0svrEU/KqJ2vwij59cwIBbKrgfaIVSb4+cOMvxU+c4sGcbh/ZPZf56vT7QQQG8i5BqXGUTy9jW5he5/YH/zdJq4/2xaWKMI/8izLZKvorYh3sFcNXAuwihxhXKWe60hTC2g5g9c4Hl1TeTmyLaWtZ9IHYh7cOqgXdRdI0rliw1iaLHdlAzu7Zw2bitZeB5t7XM+0DsQtqHFcC7KPrqtm5H+LK8eYse20Ht2zHJkcM/VVgNvMz7QOxC2ocVwHsoclVASEf4LIS24qIX7QPSSyj7sE5iBqqIFQBadRAWbY/1qjwevU5iKgMPVN5HeNVcwxNKlhcC7Z/daRWKAGGdWZd8xbDaRftnd8rABVDNtapiyWy1f3anAC5AWGfWpbssasCxrHbp3D8B7n/qdKFX9YZQk1cAlzWquYYrq0w5psy2tX+2j0XdwYDLL8t39hDKzEU1cBlZDDXU2GVVA963Y5J7D17He6/Zyr0Hr4viAN4+FgDO+jHJY38MpSbfNwM3sweBg8DL7r6n+dwfAP8YWAK+AXzY3V/LsJ0SqFAykbLLKlOuzS/yO088y9JKnaeff5Xdb7si+O3XGotWAB3jzStl89ofQ5m5DFJCeQj4Q+BP2p77LPARd18xs98DPgL8VvrNy1eRNa0Q6mlJxFJDjV1W5yhi3H7tY9FZA7//qdO59CeUc0Z9A7i7f97MdnY892Tbw1nggym3K3dFZpIxZ7GhZCJVkMU5ili3X6+xyLM/IZwzSuMk5j8H/rzXN83sMHAYYGoq+/vmJlVkJhJjFtQSSiZSRnnMysq2/crWn35GCuBm9tvACvBwr59x9weAB6BxKf0or5elIjORWLOglhAykbLJc1ZWtu1Xtv5sJHEAN7M7aJzcvNHzvKFKRoo8clcta5D+Yp6VSX4SBXAzez+Nk5b/wN3fSLdJxUnryJ1k6htC1jDMx6LpQPOmLMYk9lnZsLRfJTPIMsIjwPXAVjNbAO6jserkcuCzZgYw6+7/MsN2RiPWE5KDtDvWvmUpqzGp0qxM+1VyfS/kcffb3X2bu1/m7tvd/VPufo27X+Xuf7/5T8G7KZQF/sOaPXOBi8uNdi8td293rH3LUvuYLC3X+cRffS21C0j27ZjkrhuuKX0wS3O/KuKisiIvZNOl9CmLdeo7uXkTrRMZ9ebjTrH2LUtrF5Us16kDf3P6FZ5+/lVlkUNIa78qIpMvevYQXQAPvVYW69R38Y0lxozGlW3WeNwpr76Fvo3btcbkE3/1Nf7m9Cs66Tig1jae3LyJUy++zs++80quvOLySz66bph9oYgTv0WfbI4qgBd9tBtUCCckhzVoFpR132LZxu327Zjk19/3Lp5+/lXNTgbQ2sYXl+u0L1/bNDHGLXu3X/Jzg+4LRcwQi56VRhXA2492F5frHDu5EPybOxZFzBy6ZVdFZzQb2SgbjHXm1U+Wt7DtXHvcub2H3ReK2AZFb/eoAvjMri1MjI+tbfzH5l7I/dPCyyzPmUOv7KrojKaXQbLBGGdeG8n6Frat8wYtnds7yb5QxDYocrtHFcD37Zjkg/u2c+TEWRxYrfuGR+WYaqlV0yu7Kjqj6SXLmUGo+2lWfe68GdWpF1/H4JJkbJB9IdSxy0tUARzg1r3bOXZyoe9ROcZaapVslF2FmMlmeTvXUPfTLGdDg27jjX4u5LHLS3QBfNAMLeRaqhRfOxxWt/amkf2FvJ8Ou41GGY8kvxvy2OUlugAOgx29Q62lyptCzLQ30t7etLK/0PfTQbfRKOOR9HdDH7s8RBHAk95bpDN7eOTEWY6fOseBPds4tD/cW9tK+NLK/mKbifQyyHi0v49bvzOza0visSzL2I0i+AA+ypG9PXt45MRZPvoXzwDwha+/AqAgLomlmf3FNhPppt94tL+PJ8YMzFhZbbyn7z14XeKxLMPYjSL4AJ5WpnP81LlLHiuAV0faqxWU/a3Xbzxa99pxYGnVMRyncT3HqRdf11gmFHwATyvTObBn21rm3Xos1ZDlHQMVbN600Xi032sHYGwMVuuNT5Q/Wlvg1r3bueuGa3JpZ5kEH8DTynRa2bZq4OtVYR2tVisUr/NeO3ve/iP8n4XXG9dzrGqbJBV8AIf0Mp1D+6cUuNtUZR2tVisUr3Mb/OJ7pnjupWe1TUYURQBPQyyZZp7tTJqZxjKWLapXF6/bNtj9tiu0TUZUiQAeS6aZdzuTZKaxjGUn1auL17kNtE1G1/cTecoglk+Sybudrazo7pt2DxyIYxnLpIr8dJV+Qm5bCKo4PpXIwGOpgRbRzmGzoFjGMomQZxchty0EVR2fSgTwGGqgrbryvQevY/GNpWDbGcNYJhXyapW82xbbeY6Qt12WKhHAIex6W2zZQ8hjOYqQZxd5ti22/RHC3nZZKlUAjy1raKlq9hCakGcXebYtxv0x5G2XpdIE8BizhpaqZg8hCnl2kVfbYt0fQ952WSlNAI8xa2ipavYQmlhncGnLan/U+KavNAE81qyhpYrZQ0hinsFlIe39UeObjdIEcGWxMoqYZ3BZSDtb1vhmozQBHJTFSnKxz+DSlEW2rPHNRqkCuPSnOmR3msG9KYtsWeObDQXwClEdcmOawTVklS1rfNOnAF4hw2ZWytbLrdf2VbacTBHvFwXwChkms1K2Xm79tq+y5eEU9X6pxN0IpWGYuw+W/a6DVaftm66ixrNvBm5mDwIHgZfdfU/zuR8F/hzYCTwP/FN3r849HAuQ1vRs0MxqZtcWJsaM5VVnfMyCXjWgUs/wilwVUsbt1W88s+rzICWUh4A/BP6k7bl7gP/h7h8zs3uaj38rtVbJOoWVM8wAb/4fJpV6kimqzl3W7bXReGbZ574B3N0/b2Y7O56+Gbi++fUfA3+NAnhmirgIYvbMBVZW68F/6KwuEEkuzzp3KwP92xde4+JyY78q2/bqNZ5Z7qNJT2L+mLufA3D3c2b21lRaI10VMd2N5cKLWNpZZa0MtBW4W0IvzaUly33U3L3/DzUy8CfaauCvuftb2r6/6O5dDylmdhg4DDA1NbVvfn5+6EaGWDPLu01FjEGI495NLO2MQRZjef9Tp/kPTz5HvS3UGHBo/xT//gPvTuU1QjfquJpZzd2nL3k+YQB/Dri+mX1vA/7a3Xf3+zvT09M+Nzc3VMNDrJmF2CaRUWW1X6/93eU6dWDM0PtmSL0CeNISymeAO4CPNf//9Aht21CINc4Q29ROGWn6qjCmx04urJU5Li7XOXZyIZW+tp/gm9y8KeiPDIzNIMsIj9A4YbnVzBaA+2gE7kfN7FeBs8BtWTUwxBpniG1q0ewgfVUY09r8Io/NvbBWo3bgsbkXuGXv9tSCeNnGLASDrEK5vce3bky5LV2FeFlviG1qCX12EIPObLsKYzp75gIr9fXl1NW6l7KvZRLFpfQhHr1DbBOEPTuIQbdsuwpj2upje526rH0tkygCeKcy1COz6kMos4NYt1G3bPuuG64JYkyzdsve7Rhw3dt/RHVqRt+H83gPRBfAy1CPzLoPRc8OYt5GvbLtosc0S53bK626d8xG3Yfzeg9EdzOrMtyEpwx92EjM/Rvmhl9Zqs0vcv9Tp6nNZ3+Loc7t9fjJhdxeOy/Djueo+3D7739/uc4ffe4bSZrdV3QZeBnqkWXow0Zi71/R2XbeM5j27TU+ZhytLbCyGt/sqZck4znqPjyzawvjY0Z9tXFi+MmvvMQjJ85yaP9U4n50E10A71fj7Vd36vb9vOu1netiW0f32N8oLUm2UV7bIIba/OyZC2vrsZeWs1/10r69Xnztexz54tlSrbhpz4YvLjdmGP36NOq5pH07Jrl22w/z5YXX1547fuqcAjj0zpD6HWm7fR8opF7beo1Ya8X9DLONIJ9xiKU2P7l509p67HrzcdZa26s2v8jjJxeinT1107o18tKq48DR2gK3DlDnH3Um9ovvmeLLC8+sPT6wZ1viv9VLdDXwjfSrW3X7fpH12phrxYPoVncschuM+jp51aUX31hirHkH3zFrPB5W0raGcg4gTft2THLb9FW0borcurtm1g7tn+J3P/BufuadW/ndD7w79ewbIs3Ae+lXt+r1/aLqtbHXijfSK9stchuMMt55Zu+j7hejtrXocwBZuGXv9kJmFof2T2USuFtKFcD71a16fb/zubzqpKGs2c5Cr6sXW33+o899g5e+832e+/Z3ObR/KpdxGGW887wac9T9ogpXjg5r1HNnoSpVAIf+2UO377c/l3edtIzZDmycRT737e/y5FdeAlirER7aP5XbuYckr5P3bGmU/aLMM7tRJD13FrLSBfBRPd52R7ak2UtoR/Mi2rNRxnP81Ll1P9t5dj608YO4ZktZtbW1Xcp2R8GsZiy6EjNntflFjtYW1lYAJPnEkNCO5kW2p1fGc2DPNr7w9VfWPQ6hvf3ENFtKu62dn6pTpnt6ZzFjyWs/rmQA73VkbH0OJDQ+MeS26auirz+G1h5gLds+fuocB/ZsW5d9D9reELP0kKQ9Pq3tsra8MaD9aVRZzFjyet9VLoBvdGTsPBLfsnf70H8/tPpjaO1p6XV2fpD2hpylhyCL8Sn73QrTnrHk9b6rXADf6MiYxpE47assR82kkvapqAx3kPaGOKsISRbj07lfl6kGnoW8zplULoD3OzKmcSRO6yrLtDKpYftUdIbbr72hzipCkdX4xHQOIAR5jFf0AXzYe5+MemQcNDNNIwtKY0VMEqFnuDGtCClC3uOj8xHFiTqAJ7n3SSuIJ9nRhslM07iabtQVMUnFkOEqG9xYXuNT9Gyt6qIK4MN+VmHameQwfy+Nq+lGXRGTlDJcGVTos7VeyjJriCaAJ/mswrQzyWH/XppX0yVZETMKZbgyiBhma53KNGuIJoAn+azCtDPJPDPTNF+rLNlGS9n6k7Y8xyfG2Vqss4ZuogngST+rMO1MMs/MNI3XKlO2AeXrT9qKGJ/YZmsxzhp6iSaAx3ikD0GZsg0oX3/SpvHpr0yxJJoADuEf6UOc2pcp24Dy9SdtGp/BhB5LBmXu3v+nUjI9Pe1zc3O5vV6eQp7ah3hgGUXZ+pM2jU/5mFnN3ac7n48qAw9ZyFPXsmQbLWXrT6c0bp9Q5vGRNymAp0RTV0lDyDM5CY8CeErKdGJEihPyTG5YVS3l5NlvBfAUaeoqoyrLTK6qM4m8+x11AK/qEV7Sl/a+1P73gIH/diwzuX7jVaaZxDDy7ne0AbyqR3hJX9r7UvvfmxgfA3dW6j7w3w59JjfIeJVlJjGsvPsdbQCv6hFe0pf1Tc+A3G8JnKVBxiuWmUTa8u73SAHczH4DuJPG/vkM8GF3/34aDeunqkd4SV+WNz0bb2bgq3UvzX466HiFPpPISp79Tnwhj5m9A/hfwLXu/j0zexT4b+7+UK/fSftCHtXApZdh941QauCx2Gi89L5MX68LeUYN4LPA3wO+A/wl8J/d/clev1PmKzElHDo/UhyNfTZ6BfCxpH/Q3b8FfBw4C5wDXu8WvM3ssJnNmdnc+fPnk76cyMC61Wg71eYXuf+p09TmFwtoYXl1jv3jJxcqNc5571eJa+BmNgncDFwNvAY8ZmYfcvc/bf85d38AeAAaGXjypooMpl+NVllidtbV/8eMo7UFVlarMc5F7FeJM3DgfcA33f28uy8Dx4D3ptMsSUMa2UCMmWprJcDdN+3u+ibaKEOPsb/95Nmn9rG/bfoqVlY3ngmVySAzv7SNsgrlLDBjZpuB7wE3AipwByKNbCDmTHWjlQC9MvSY+9tLkR/wUJtf5PGTC5VZKVbEyrjEAdzdT5jZUeAksAJ8iWapRIqXxtrmsq6177VWt4z9LbJPVVsLXkR/R1oH7u73Afel1BZJURrZQJnX2nfL0MvY36L7VLW14Hn3Vx/oUGJprMet2preMva3jH2qmtTXgSehAC4iMrzU14GLiEixFMBFRCKlAC4iEikFcBGRSCmAi4hESgFcRCRSuS4jNLPzwHzCX98KvJJic2JT9f6DxgA0BlXt/w53v7LzyVwD+CjMbK7bOsiqqHr/QWMAGoOq97+TSigiIpFSABcRiVRMAbzqdzqsev9BYwAag6r3f51oauAiIrJeTBm4iIi0UQAXEYlU8AHczN5vZs+Z2Wkzu6fo9mTFzK4ys6fM7Ktm9qyZ/Zvm8z9qZp81s683/59s+52PNMflOTP7R8W1Pj1mNm5mXzKzJ5qPq9b/t5jZUTP7v8194aeqNAZm9hvN/f+UmR0xs79Tpf4Pzd2D/QeMA98AdgGbgC8D1xbdroz6ug3Y2/z6CuBrwLXA7wP3NJ+/B/i95tfXNsfjcuDq5jiNF92PFMbhbuAR4Inm46r1/4+BO5tfbwLeUpUxAN4BfBP4gebjR4F/VpX+J/kXegb+k8Bpdz/j7kvAnwE3F9ymTLj7OXc/2fz6u8BXaezQN9N4U9P8/580v74Z+DN3v+ju3wRO0xivaJnZduDngU+2PV2l/v8w8LPApwDcfcndX6NCY0DjYx5/wMwmgM3Ai1Sr/0MJPYC/A3ih7fFC87lSM7OdwE8AJ4Afc/dz0AjywFubP1bGsfkE8JtAve25KvV/F3Ae+K/NMtInzewHqcgYuPu3gI8DZ4FzwOvu/iQV6X8SoQdw6/Jcqdc9mtkPAY8Dv+7u39noR7s8F+3YmNlB4GV3rw36K12ei7b/TRPAXuC/uPtPAP+PRsmgl1KNQbO2fTONcsjbgR80sw9t9Ctdnou2/0mEHsAXgKvaHm+nMaUqJTO7jEbwftjdjzWffsnMtjW/vw14ufl82cbmp4FfMLPnaZTKfs7M/pTq9B8afVpw9xPNx0dpBPSqjMH7gG+6+3l3XwaOAe+lOv0fWugB/GngnWZ2tZltAn4J+EzBbcqEmRmN2udX3f0/tn3rM8Adza/vAD7d9vwvmdnlZnY18E7gi3m1N23u/hF33+7uO2ls5//p7h+iIv0HcPdvAy+Y2e7mUzcCX6E6Y3AWmDGzzc33w400zgVVpf9Dmyi6ARtx9xUz+9fAf6exIuVBd3+24GZl5aeBXwGeMbO/bT73UeBjwKNm9qs0dvDbANz9WTN7lMYbfAW4y91Xc2919qrW/18DHm4mLGeAD9NItEo/Bu5+wsyOAidp9OdLNC6d/yEq0P8kdCm9iEikQi+hiIhIDwrgIiKRUgAXEYmUAriISKQUwEVEIqUALiISKQVwEZFI/X/JXvODNAty6wAAAABJRU5ErkJggg==\n",
      "text/plain": [
       "<Figure size 432x288 with 1 Axes>"
      ]
     },
     "metadata": {
      "needs_background": "light"
     },
     "output_type": "display_data"
    }
   ],
   "source": [
    "ytest.plot(style='.')\n"
   ]
  },
  {
   "cell_type": "code",
   "execution_count": 171,
   "id": "92bde84f",
   "metadata": {},
   "outputs": [
    {
     "data": {
      "image/png": "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\n",
      "text/plain": [
       "<Figure size 432x288 with 1 Axes>"
      ]
     },
     "metadata": {
      "needs_background": "light"
     },
     "output_type": "display_data"
    }
   ],
   "source": [
    "plt.scatter(ytest, ypred, color = \"red\")\n",
    "plt.plot(ytest,ypred, color = \"green\")\n",
    "plt.title(\"(Training set)\")\n",
    "plt.xlabel(\"xx\")\n",
    "plt.ylabel(\"y\")\n",
    "plt.show()"
   ]
  },
  {
   "cell_type": "markdown",
   "id": "826d1ceb",
   "metadata": {},
   "source": [
    "# 6.2 Decision Tree Regressor\n",
    "<span id=\"decision\"></span>\n"
   ]
  },
  {
   "cell_type": "code",
   "execution_count": 60,
   "id": "0014feb2",
   "metadata": {},
   "outputs": [],
   "source": [
    "from sklearn.tree import DecisionTreeRegressor\n",
    "dc=DecisionTreeRegressor(max_depth=3)"
   ]
  },
  {
   "cell_type": "code",
   "execution_count": 61,
   "id": "50c4bc7d",
   "metadata": {},
   "outputs": [
    {
     "data": {
      "text/plain": [
       "DecisionTreeRegressor(max_depth=3)"
      ]
     },
     "execution_count": 61,
     "metadata": {},
     "output_type": "execute_result"
    }
   ],
   "source": [
    "dc.fit(xtrain,ytrain)"
   ]
  },
  {
   "cell_type": "code",
   "execution_count": 62,
   "id": "11c7e078",
   "metadata": {},
   "outputs": [],
   "source": [
    "ypred=dc.predict(xtest)"
   ]
  },
  {
   "cell_type": "markdown",
   "id": "c68f8448",
   "metadata": {},
   "source": [
    "**Checking if model is overfitted or underfitted**"
   ]
  },
  {
   "cell_type": "code",
   "execution_count": 63,
   "id": "21e3acd0",
   "metadata": {},
   "outputs": [
    {
     "name": "stdout",
     "output_type": "stream",
     "text": [
      "training score =  0.9067389747673641\n",
      "testing score =  0.8865253050515427\n"
     ]
    }
   ],
   "source": [
    "print(\"training score = \",dc.score(xtrain,ytrain))\n",
    "print(\"testing score = \",dc.score(xtest,ytest))"
   ]
  },
  {
   "cell_type": "code",
   "execution_count": 64,
   "id": "7b2f5126",
   "metadata": {
    "scrolled": true
   },
   "outputs": [
    {
     "data": {
      "text/plain": [
       "0.8865253050515427"
      ]
     },
     "execution_count": 64,
     "metadata": {},
     "output_type": "execute_result"
    }
   ],
   "source": [
    "r2_score(ytest, ypred)"
   ]
  },
  {
   "cell_type": "markdown",
   "id": "f03bce7c",
   "metadata": {},
   "source": [
    "**Visualising the tree**"
   ]
  },
  {
   "cell_type": "code",
   "execution_count": 65,
   "id": "502c8f8f",
   "metadata": {},
   "outputs": [],
   "source": [
    "from sklearn import tree"
   ]
  },
  {
   "cell_type": "code",
   "execution_count": 66,
   "id": "4bf9fa3f",
   "metadata": {},
   "outputs": [],
   "source": [
    "new = df1[[\"Vehicle Class\",\"Engine Size\",\"Cylinders\",\"Transmission\",\"Fuel Type\",\"CO2 Rating\"]]"
   ]
  },
  {
   "cell_type": "code",
   "execution_count": null,
   "id": "69bc454f",
   "metadata": {},
   "outputs": [],
   "source": []
  },
  {
   "cell_type": "code",
   "execution_count": 67,
   "id": "06649b7e",
   "metadata": {
    "scrolled": false
   },
   "outputs": [
    {
     "data": {
      "image/png": "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\n",
      "text/plain": [
       "<Figure size 3600x2160 with 1 Axes>"
      ]
     },
     "metadata": {
      "needs_background": "light"
     },
     "output_type": "display_data"
    }
   ],
   "source": [
    "plt.figure(figsize=(50,30))\n",
    "tree.plot_tree(dc)\n",
    "plt.show()"
   ]
  },
  {
   "cell_type": "markdown",
   "id": "420858ac",
   "metadata": {},
   "source": [
    "# 6.3 Random Forest Regressor\n",
    "<span id=\"rf\"></span>"
   ]
  },
  {
   "cell_type": "code",
   "execution_count": 68,
   "id": "ac6ae5b4",
   "metadata": {},
   "outputs": [],
   "source": [
    "from sklearn.ensemble import RandomForestRegressor\n",
    "rf = RandomForestRegressor()"
   ]
  },
  {
   "cell_type": "code",
   "execution_count": 69,
   "id": "5c403d4e",
   "metadata": {},
   "outputs": [],
   "source": [
    "no_of_decision_tree = [10,20,30,40,50,60,70,80,90,100]\n",
    "max_no_of_features = ['sqrt','log2']\n",
    "max_depth = [6,7,8,9,10,11,12,13,14,15]\n",
    "criterion_of_decision_tree = [\"squared_error\", \"poisson\"]\n",
    "min_sample_split=[2,3,4,5,6]"
   ]
  },
  {
   "cell_type": "code",
   "execution_count": 70,
   "id": "83a7fea9",
   "metadata": {},
   "outputs": [],
   "source": [
    "random_grid = {\n",
    "    'n_estimators' : no_of_decision_tree,\n",
    "    'max_features' : max_no_of_features,\n",
    "    'max_depth' : max_depth,\n",
    "    'criterion' : criterion_of_decision_tree,\n",
    "    'min_samples_split' : min_sample_split\n",
    "}"
   ]
  },
  {
   "cell_type": "markdown",
   "id": "5dc6b8f8",
   "metadata": {},
   "source": [
    "### Hyper Parameter Tuning"
   ]
  },
  {
   "cell_type": "code",
   "execution_count": 71,
   "id": "c4c25019",
   "metadata": {},
   "outputs": [],
   "source": [
    "# from sklearn.model_selection import RandomizedSearchCV\n",
    "# rscv = RandomizedSearchCV(estimator = rf , param_distributions = random_grid , n_iter = 25 , cv = 5 ,n_jobs=-1)\n",
    "# rscv.fit(xtrain, ytrain)"
   ]
  },
  {
   "cell_type": "code",
   "execution_count": 72,
   "id": "d60736a2",
   "metadata": {},
   "outputs": [],
   "source": [
    "# rscv.best_params_"
   ]
  },
  {
   "cell_type": "code",
   "execution_count": 73,
   "id": "680558cc",
   "metadata": {},
   "outputs": [],
   "source": [
    "rf = RandomForestRegressor(n_estimators = 100 , min_samples_split = 2, max_features =  'log2', max_depth = 14, criterion='poisson')"
   ]
  },
  {
   "cell_type": "code",
   "execution_count": 74,
   "id": "f1c580e5",
   "metadata": {},
   "outputs": [],
   "source": [
    "rf.fit(xtrain,ytrain)\n",
    "ypred = rf.predict(xtest)"
   ]
  },
  {
   "cell_type": "markdown",
   "id": "4648a3ea",
   "metadata": {},
   "source": [
    "**Checking if model is overfitted or underfitted**"
   ]
  },
  {
   "cell_type": "code",
   "execution_count": 75,
   "id": "cb8292b0",
   "metadata": {},
   "outputs": [
    {
     "name": "stdout",
     "output_type": "stream",
     "text": [
      "training score =  0.9591887120060514\n",
      "testing score =  0.9453438527332957\n"
     ]
    }
   ],
   "source": [
    "print(\"training score = \",rf.score(xtrain,ytrain))\n",
    "print(\"testing score = \",rf.score(xtest,ytest))"
   ]
  },
  {
   "cell_type": "code",
   "execution_count": 76,
   "id": "44256146",
   "metadata": {},
   "outputs": [
    {
     "data": {
      "text/plain": [
       "0.9453438527332957"
      ]
     },
     "execution_count": 76,
     "metadata": {},
     "output_type": "execute_result"
    }
   ],
   "source": [
    "r2_score(ytest,ypred)"
   ]
  },
  {
   "cell_type": "markdown",
   "id": "2424aac7",
   "metadata": {},
   "source": [
    "# 6.5 SVR Model\n",
    "<span id=\"svr\"></span>"
   ]
  },
  {
   "cell_type": "code",
   "execution_count": 77,
   "id": "0756ad4e",
   "metadata": {},
   "outputs": [],
   "source": [
    "from sklearn.svm import SVR\n",
    "svr = SVR()"
   ]
  },
  {
   "cell_type": "markdown",
   "id": "6ff6a47c",
   "metadata": {},
   "source": [
    "### Hyper Parameter Tuning"
   ]
  },
  {
   "cell_type": "code",
   "execution_count": 78,
   "id": "d4b67283",
   "metadata": {},
   "outputs": [],
   "source": [
    "# from sklearn.model_selection import RandomizedSearchCV\n",
    "# para = {'kernel' : ('linear', 'poly', 'rbf', 'sigmoid'),'C' : [1,5,10],'degree' : [3,8],'coef0' : [0.01,10,0.5],'gamma' : ('auto','scale')}\n",
    "# rsv = RandomizedSearchCV(svr,para,scoring = \"neg_mean_squared_error\",n_iter = 5, cv = 5,n_jobs = -1)\n",
    "# rsv.fit(xtrain,ytrain)    "
   ]
  },
  {
   "cell_type": "code",
   "execution_count": 79,
   "id": "3b6a8b44",
   "metadata": {},
   "outputs": [],
   "source": [
    "# rsv.best_params_"
   ]
  },
  {
   "cell_type": "code",
   "execution_count": 80,
   "id": "302309c6",
   "metadata": {},
   "outputs": [],
   "source": [
    "svr= SVR(kernel = 'rbf', gamma = 'scale', degree = 8, coef0 = 0.5, C = 10)"
   ]
  },
  {
   "cell_type": "code",
   "execution_count": 81,
   "id": "0887e2cf",
   "metadata": {},
   "outputs": [],
   "source": [
    "svr.fit(xtrain,ytrain)\n",
    "ypred= svr.predict(xtest)"
   ]
  },
  {
   "cell_type": "markdown",
   "id": "aa8ac119",
   "metadata": {},
   "source": [
    "**Checking if model is overfitted or underfitted**"
   ]
  },
  {
   "cell_type": "code",
   "execution_count": 82,
   "id": "b345224c",
   "metadata": {},
   "outputs": [
    {
     "name": "stdout",
     "output_type": "stream",
     "text": [
      "training score =  0.9591887120060514\n",
      "testing score =  0.9453438527332957\n"
     ]
    }
   ],
   "source": [
    "print(\"training score = \",rf.score(xtrain,ytrain))\n",
    "print(\"testing score = \",rf.score(xtest,ytest))"
   ]
  },
  {
   "cell_type": "code",
   "execution_count": 83,
   "id": "77a70eec",
   "metadata": {},
   "outputs": [
    {
     "data": {
      "text/plain": [
       "0.923460543094079"
      ]
     },
     "execution_count": 83,
     "metadata": {},
     "output_type": "execute_result"
    }
   ],
   "source": [
    "r2_score(ytest,ypred)"
   ]
  },
  {
   "cell_type": "code",
   "execution_count": 84,
   "id": "2bfd6a05",
   "metadata": {},
   "outputs": [
    {
     "data": {
      "text/plain": [
       "0.946762103467081"
      ]
     },
     "execution_count": 84,
     "metadata": {},
     "output_type": "execute_result"
    }
   ],
   "source": [
    "svr.score(xtrain,ytrain)"
   ]
  },
  {
   "cell_type": "markdown",
   "id": "82453919",
   "metadata": {},
   "source": [
    "# 6.6 Polynomial Regression\n",
    "<span id=\"polynomial\"></span>"
   ]
  },
  {
   "cell_type": "markdown",
   "id": "2393936b",
   "metadata": {},
   "source": [
    "### Degree = 2"
   ]
  },
  {
   "cell_type": "code",
   "execution_count": 85,
   "id": "fc36630c",
   "metadata": {},
   "outputs": [],
   "source": [
    "poly_reg = PolynomialFeatures(degree = 2)\n",
    "X_poly = poly_reg.fit_transform(xtrain)"
   ]
  },
  {
   "cell_type": "code",
   "execution_count": 86,
   "id": "2fc3bdac",
   "metadata": {},
   "outputs": [
    {
     "data": {
      "text/plain": [
       "LinearRegression()"
      ]
     },
     "execution_count": 86,
     "metadata": {},
     "output_type": "execute_result"
    }
   ],
   "source": [
    "lr_poly_regressor = LinearRegression(fit_intercept = True)\n",
    "lr_poly_regressor.fit(X_poly,ytrain)"
   ]
  },
  {
   "cell_type": "code",
   "execution_count": 87,
   "id": "ab4ac176",
   "metadata": {},
   "outputs": [],
   "source": [
    "ypred =lr_poly_regressor.predict(poly_reg.fit_transform(xtest))"
   ]
  },
  {
   "cell_type": "code",
   "execution_count": 88,
   "id": "2299c3db",
   "metadata": {},
   "outputs": [
    {
     "data": {
      "text/plain": [
       "0.9329547491721535"
      ]
     },
     "execution_count": 88,
     "metadata": {},
     "output_type": "execute_result"
    }
   ],
   "source": [
    "r2_score(ytest, ypred)"
   ]
  },
  {
   "cell_type": "markdown",
   "id": "d3a56967",
   "metadata": {},
   "source": [
    "### Degree = 3"
   ]
  },
  {
   "cell_type": "code",
   "execution_count": 89,
   "id": "c3904c72",
   "metadata": {},
   "outputs": [],
   "source": [
    "poly_reg = PolynomialFeatures(degree = 3)\n",
    "X_poly = poly_reg.fit_transform(xtrain)"
   ]
  },
  {
   "cell_type": "code",
   "execution_count": 90,
   "id": "b6137dbf",
   "metadata": {},
   "outputs": [
    {
     "data": {
      "text/plain": [
       "LinearRegression()"
      ]
     },
     "execution_count": 90,
     "metadata": {},
     "output_type": "execute_result"
    }
   ],
   "source": [
    "lr_poly_regressor = LinearRegression(fit_intercept = True)\n",
    "lr_poly_regressor.fit(X_poly,ytrain)"
   ]
  },
  {
   "cell_type": "code",
   "execution_count": 91,
   "id": "ec44fc63",
   "metadata": {},
   "outputs": [],
   "source": [
    "ypred =lr_poly_regressor.predict(poly_reg.fit_transform(xtest))"
   ]
  },
  {
   "cell_type": "code",
   "execution_count": 92,
   "id": "1fc48a8a",
   "metadata": {},
   "outputs": [
    {
     "data": {
      "text/plain": [
       "0.9185905911969335"
      ]
     },
     "execution_count": 92,
     "metadata": {},
     "output_type": "execute_result"
    }
   ],
   "source": [
    "r2_score(ytest, ypred)"
   ]
  },
  {
   "cell_type": "markdown",
   "id": "cc2cfbf3",
   "metadata": {},
   "source": [
    "-----\n",
    "<center>\n",
    "<h1 style=\"font-size: 40px; font-family: serif;\">7. Model Deployment</h1>\n",
    "</center>\n",
    "<span id=\"deployment\"></span>\n",
    "\n",
    "---"
   ]
  },
  {
   "cell_type": "markdown",
   "id": "65dfa3f2",
   "metadata": {},
   "source": [
    "# 7.1 Pickling Model and Scaler object for Deployment\n",
    "<span id=\"pickling\"></span>\n"
   ]
  },
  {
   "cell_type": "code",
   "execution_count": 1,
   "id": "d681873c",
   "metadata": {},
   "outputs": [],
   "source": [
    "import pickle as pk"
   ]
  },
  {
   "cell_type": "code",
   "execution_count": 94,
   "id": "ce8b388c",
   "metadata": {},
   "outputs": [],
   "source": [
    "filename = \"scaled_data.sav\"\n",
    "pk.dump(sc, open(filename, \"wb\"))"
   ]
  },
  {
   "cell_type": "code",
   "execution_count": 2,
   "id": "1ca66715",
   "metadata": {},
   "outputs": [],
   "source": [
    "loaded_scaler = pk.load(open(\"scaled_data.sav\", \"rb\"))"
   ]
  },
  {
   "cell_type": "code",
   "execution_count": 96,
   "id": "82b1f143",
   "metadata": {},
   "outputs": [],
   "source": [
    "filename = \"trained_model_rf.sav\"\n",
    "pk.dump(rf, open(filename, \"wb\"))"
   ]
  },
  {
   "cell_type": "code",
   "execution_count": 3,
   "id": "868b5f73",
   "metadata": {},
   "outputs": [],
   "source": [
    "loaded_model = pk.load(open(\"trained_model_rf.sav\", \"rb\"))"
   ]
  },
  {
   "cell_type": "code",
   "execution_count": 4,
   "id": "a75ccd1f",
   "metadata": {},
   "outputs": [],
   "source": [
    "inp = [\"Compact\",2.4,4,\"AM\",6.0,\"X\"]    # input example"
   ]
  },
  {
   "cell_type": "code",
   "execution_count": 11,
   "id": "747a3cfe",
   "metadata": {
    "scrolled": true
   },
   "outputs": [
    {
     "data": {
      "text/plain": [
       "'The Fuel Consumption L/100km is 8.73'"
      ]
     },
     "execution_count": 11,
     "metadata": {},
     "output_type": "execute_result"
    }
   ],
   "source": [
    "def input_converter(inp):\n",
    "    vcl = ['Two-seater','Minicompact','Compact','Subcompact','Mid-size','Full-size','SUV: Small','SUV: Standard','Minivan','Station wagon: Small','Station wagon: Mid-size','Pickup truck: Small','Special purpose vehicle','Pickup truck: Standard']\n",
    "    trans = ['AV','AM','M','AS','A']\n",
    "    fuel = [\"D\",\"E\",\"X\",\"Z\"]\n",
    "    lst = []\n",
    "    for i in range(9):\n",
    "        if(type(inp[i]) == str):\n",
    "            if(inp[i] in vcl):\n",
    "                lst.append(vcl.index(inp[i]))\n",
    "            elif(inp[i] in trans):\n",
    "                lst.append(trans.index(inp[i]))\n",
    "            elif(inp[i] in fuel):\n",
    "                if(fuel.index(inp[i]) == 0):\n",
    "                    lst.extend([1,0,0,0])\n",
    "                    break\n",
    "                elif(fuel.index(inp[i]) == 1):\n",
    "                    lst.extend([0,1,0,0])\n",
    "                    break\n",
    "                elif(fuel.index(inp[i]) == 2):\n",
    "                    lst.extend([0,0,1,0])\n",
    "                    break\n",
    "                elif(fuel.index(inp[i]) == 3):\n",
    "                    lst.extend([0,0,0,1])\n",
    "        else:\n",
    "            lst.append(inp[i])\n",
    "\n",
    "    arr = np.asarray(lst)\n",
    "    arr = arr.reshape(1, -1)\n",
    "    arr = loaded_scaler.transform(arr)\n",
    "    prediction = loaded_model.predict(arr)\n",
    "    \n",
    "    return(f\"The Fuel Consumption L/100km is {round(prediction[0],2)}\")\n",
    "\n",
    "\n",
    "\n",
    "input_converter(inp)"
   ]
  },
  {
   "cell_type": "markdown",
   "id": "554f3776",
   "metadata": {},
   "source": [
    "-------\n",
    "-------\n",
    "-------\n",
    "<center>\n",
    "<h1 style=\"font-size: 30px; font-family: serif;\">Thank you</h1>\n",
    "</center>"
   ]
  }
